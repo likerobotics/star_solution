{
 "cells": [
  {
   "cell_type": "markdown",
   "metadata": {},
   "source": [
    " ## 3D data processing"
   ]
  },
  {
   "cell_type": "code",
   "execution_count": 5,
   "metadata": {},
   "outputs": [],
   "source": [
    "import numpy as np\n",
    "import os\n",
    "import matplotlib.pyplot as plt\n",
    "import plotly.graph_objects as go\n",
    "import open3d as o3d\n",
    "\n",
    "import os\n",
    "import numpy as np\n",
    "import math\n",
    "\n",
    "from sklearn.cluster import DBSCAN"
   ]
  },
  {
   "cell_type": "code",
   "execution_count": 6,
   "metadata": {},
   "outputs": [],
   "source": [
    "# for deployment\n",
    "from star_solution.utils import filter_points,largest_cluster_outliers, ransac_plane_outliers, project_points_to_plane, pattern_match, compare_clouds_by_centroid"
   ]
  },
  {
   "cell_type": "code",
   "execution_count": 7,
   "metadata": {},
   "outputs": [],
   "source": [
    "# for dev only\n",
    "from star_solution.utils import load_all_dumps_with_pose, plot_intensity_hist, visualize_inline, visualize_cloud, visualize_plane_with_points"
   ]
  },
  {
   "cell_type": "code",
   "execution_count": 8,
   "metadata": {},
   "outputs": [
    {
     "name": "stdout",
     "output_type": "stream",
     "text": [
      "/home/likerobotics/lidar_filtered_dumps/filtered_1756549169.npy: 7612 точек, pose = [0. 0. 0.]\n",
      "/home/likerobotics/lidar_filtered_dumps/filtered_1756549172.npy: 7450 точек, pose = [-0.005508   0.0054696 -1.5693438]\n",
      "/home/likerobotics/lidar_filtered_dumps/filtered_1756549175.npy: 7579 точек, pose = [0. 0. 0.]\n",
      "/home/likerobotics/lidar_filtered_dumps/filtered_1756549178.npy: 7664 точек, pose = [0. 0. 0.]\n",
      "/home/likerobotics/lidar_filtered_dumps/filtered_1756549181.npy: 7551 точек, pose = [-5.7389666e-03 -3.4533886e-04 -1.5716535e+00]\n",
      "/home/likerobotics/lidar_filtered_dumps/filtered_1756549184.npy: 7573 точек, pose = [ 1.0359057e-02  1.5138991e-03 -1.5691990e+00]\n",
      "/home/likerobotics/lidar_filtered_dumps/filtered_1756549187.npy: 7718 точек, pose = [0. 0. 0.]\n",
      "/home/likerobotics/lidar_filtered_dumps/filtered_1756549190.npy: 7538 точек, pose = [ 0.00268392 -0.00223368 -1.5687442 ]\n",
      "/home/likerobotics/lidar_filtered_dumps/filtered_1756549193.npy: 7522 точек, pose = [-8.4915402e-04 -9.3487240e-02 -1.5684987e+00]\n",
      "/home/likerobotics/lidar_filtered_dumps/filtered_1756549196.npy: 7042 точек, pose = [-0.01574372 -0.61999345 -1.5753473 ]\n",
      "/home/likerobotics/lidar_filtered_dumps/filtered_1756549199.npy: 7845 точек, pose = [ 1.1644282  -0.18893997 -0.6370452 ]\n",
      "/home/likerobotics/lidar_filtered_dumps/filtered_1756549202.npy: 8193 точек, pose = [ 1.5678633  -0.5559836  -0.74351025]\n",
      "/home/likerobotics/lidar_filtered_dumps/filtered_1756549205.npy: 7769 точек, pose = [ 1.0390606  -1.792831   -0.11597763]\n",
      "/home/likerobotics/lidar_filtered_dumps/filtered_1756549208.npy: 7947 точек, pose = [ 1.6761768  -1.8782061  -0.08554806]\n",
      "/home/likerobotics/lidar_filtered_dumps/filtered_1756549211.npy: 8295 точек, pose = [ 2.4087288  -1.9393123  -0.07151068]\n",
      "/home/likerobotics/lidar_filtered_dumps/filtered_1756549214.npy: 8239 точек, pose = [ 2.001935  -3.2106516 -1.4981906]\n",
      "/home/likerobotics/lidar_filtered_dumps/filtered_1756549217.npy: 8058 точек, pose = [ 2.053867  -3.989682  -1.5097098]\n",
      "/home/likerobotics/lidar_filtered_dumps/filtered_1756549220.npy: 8130 точек, pose = [ 2.1213531 -4.774803  -1.4660766]\n",
      "/home/likerobotics/lidar_filtered_dumps/filtered_1756549223.npy: 8152 точек, pose = [ 5.5317674  -2.1976876  -0.08530541]\n",
      "/home/likerobotics/lidar_filtered_dumps/filtered_1756549226.npy: 8250 точек, pose = [ 6.3208623  -2.2806268  -0.07695737]\n",
      "/home/likerobotics/lidar_filtered_dumps/filtered_1756549229.npy: 8414 точек, pose = [ 7.0992274  -2.3556294  -0.08075047]\n",
      "/home/likerobotics/lidar_filtered_dumps/filtered_1756549232.npy: 7894 точек, pose = [ 7.907238   -2.4342158  -0.07733019]\n",
      "/home/likerobotics/lidar_filtered_dumps/filtered_1756549235.npy: 7581 точек, pose = [ 8.693973   -2.5700765  -0.39984733]\n",
      "/home/likerobotics/lidar_filtered_dumps/filtered_1756549238.npy: 7298 точек, pose = [ 2.892665  -9.459937  -1.1363839]\n",
      "/home/likerobotics/lidar_filtered_dumps/filtered_1756549241.npy: 7646 точек, pose = [10.124385   -3.2259135  -0.71917677]\n",
      "/home/likerobotics/lidar_filtered_dumps/filtered_1756549244.npy: 8023 точек, pose = [  3.9077816  -10.56615     -0.30665436]\n",
      "/home/likerobotics/lidar_filtered_dumps/filtered_1756549247.npy: 8724 точек, pose = [  4.5982294 -10.65426    -0.0270526]\n",
      "/home/likerobotics/lidar_filtered_dumps/filtered_1756549250.npy: 9389 точек, pose = [ 5.2919240e+00 -1.0666023e+01 -5.5850535e-03]\n",
      "/home/likerobotics/lidar_filtered_dumps/filtered_1756549253.npy: 9667 точек, pose = [10.611406  -6.0090885 -1.5542746]\n",
      "/home/likerobotics/lidar_filtered_dumps/filtered_1756549256.npy: 8730 точек, pose = [  6.7993064 -10.604132    0.1542871]\n",
      "/home/likerobotics/lidar_filtered_dumps/filtered_1756549259.npy: 8285 точек, pose = [  7.564992   -10.46987      0.35412732]\n",
      "/home/likerobotics/lidar_filtered_dumps/filtered_1756549262.npy: 7478 точек, pose = [ 7.996875  -9.884734   1.5467107]\n",
      "/home/likerobotics/lidar_filtered_dumps/filtered_1756549265.npy: 7320 точек, pose = [ 7.958547  -9.099596   1.8203784]\n",
      "/home/likerobotics/lidar_filtered_dumps/filtered_1756549268.npy: 7167 точек, pose = [ 7.738691 -8.537067  2.146057]\n",
      "/home/likerobotics/lidar_filtered_dumps/filtered_1756549271.npy: 8050 точек, pose = [ 8.1624775 -7.1709533  1.6352483]\n",
      "/home/likerobotics/lidar_filtered_dumps/filtered_1756549274.npy: 8645 точек, pose = [ 6.443763  -8.279551  -2.9613001]\n",
      "/home/likerobotics/lidar_filtered_dumps/filtered_1756549277.npy: 9527 точек, pose = [ 8.220218  -5.703122   1.8725435]\n",
      "/home/likerobotics/lidar_filtered_dumps/filtered_1756549280.npy: 9255 точек, pose = [ 5.031258  -7.8806844  2.3005185]\n",
      "/home/likerobotics/lidar_filtered_dumps/filtered_1756549283.npy: 8849 точек, pose = [ 7.1562114 -4.6556654  2.8766885]\n",
      "/home/likerobotics/lidar_filtered_dumps/filtered_1756549286.npy: 9711 точек, pose = [ 4.4671707 -6.427809   1.6959364]\n",
      "/home/likerobotics/lidar_filtered_dumps/filtered_1756549290.npy: 9583 точек, pose = [ 5.5460978 -4.487874   3.1085322]\n",
      "/home/likerobotics/lidar_filtered_dumps/filtered_1756549293.npy: 9213 точек, pose = [ 4.282586  -4.808937   1.7828538]\n",
      "/home/likerobotics/lidar_filtered_dumps/filtered_1756549296.npy: 9071 точек, pose = [ 3.928949  -4.2768397  2.9566493]\n",
      "/home/likerobotics/lidar_filtered_dumps/filtered_1756549299.npy: 8200 точек, pose = [ 3.1430066 -4.1073475  2.9407039]\n",
      "/home/likerobotics/lidar_filtered_dumps/filtered_1756549302.npy: 7871 точек, pose = [ 3.875868  -2.4582732  1.2852604]\n",
      "/home/likerobotics/lidar_filtered_dumps/filtered_1756549305.npy: 8060 точек, pose = [ 4.4373927 -1.9387503  0.3921755]\n",
      "/home/likerobotics/lidar_filtered_dumps/filtered_1756549308.npy: 8384 точек, pose = [ 5.2260947  -1.7942256   0.10122909]\n",
      "/home/likerobotics/lidar_filtered_dumps/filtered_1756549311.npy: 8409 точек, pose = [ 6.0273056  -1.7150915   0.09599311]\n",
      "/home/likerobotics/lidar_filtered_dumps/filtered_1756549314.npy: 7532 точек, pose = [ 6.751545   -1.9565433  -0.71593404]\n",
      "/home/likerobotics/lidar_filtered_dumps/filtered_1756549317.npy: 7559 точек, pose = [ 7.180698  -2.5985558 -1.3114403]\n",
      "/home/likerobotics/lidar_filtered_dumps/filtered_1756549320.npy: 8542 точек, pose = [ 3.5094378  -7.428281   -0.02083586]\n",
      "/home/likerobotics/lidar_filtered_dumps/filtered_1756549323.npy: 8062 точек, pose = [ 7.3676677 -4.1933103 -1.5053465]\n",
      "/home/likerobotics/lidar_filtered_dumps/filtered_1756549326.npy: 8199 точек, pose = [ 7.516069 -4.982019 -1.375145]\n",
      "/home/likerobotics/lidar_filtered_dumps/filtered_1756549329.npy: 7947 точек, pose = [ 7.667978  -5.7665005 -1.3843951]\n",
      "/home/likerobotics/lidar_filtered_dumps/filtered_1756549332.npy: 7863 точек, pose = [ 6.68565    -7.719009   -0.08940976]\n",
      "/home/likerobotics/lidar_filtered_dumps/filtered_1756549335.npy: 7287 точек, pose = [ 8.024583  -7.314243  -0.9801769]\n",
      "/home/likerobotics/lidar_filtered_dumps/filtered_1756549338.npy: 7519 точек, pose = [ 8.706539   -7.623609   -0.01815142]\n",
      "/home/likerobotics/lidar_filtered_dumps/filtered_1756549341.npy: 8790 точек, pose = [ 7.795197  -9.340072  -1.6094861]\n",
      "/home/likerobotics/lidar_filtered_dumps/filtered_1756549344.npy: 8232 точек, pose = [10.291472   -7.414322    0.11519173]\n",
      "/home/likerobotics/lidar_filtered_dumps/filtered_1756549347.npy: 7819 точек, pose = [  7.749986  -10.939918   -1.5137787]\n",
      "/home/likerobotics/lidar_filtered_dumps/filtered_1756549350.npy: 6978 точек, pose = [11.83593   -7.1502557  0.6663667]\n",
      "/home/likerobotics/lidar_filtered_dumps/filtered_1756549353.npy: 7151 точек, pose = [12.1962805 -6.4763384  1.4112732]\n",
      "/home/likerobotics/lidar_filtered_dumps/filtered_1756549356.npy: 7717 точек, pose = [12.087515 -5.698687  1.799609]\n",
      "/home/likerobotics/lidar_filtered_dumps/filtered_1756549359.npy: 7856 точек, pose = [11.942661  -4.911992   1.7100736]\n",
      "/home/likerobotics/lidar_filtered_dumps/filtered_1756549362.npy: 7642 точек, pose = [  4.559368 -11.939551   3.076696]\n",
      "/home/likerobotics/lidar_filtered_dumps/filtered_1756549365.npy: 7562 точек, pose = [  3.7643905 -11.86887     3.0480118]\n",
      "/home/likerobotics/lidar_filtered_dumps/filtered_1756549368.npy: 7677 точек, pose = [11.495545  -2.55659    1.7929767]\n",
      "/home/likerobotics/lidar_filtered_dumps/filtered_1756549371.npy: 7248 точек, pose = [  2.1984003 -11.670287    3.0134075]\n",
      "/home/likerobotics/lidar_filtered_dumps/filtered_1756549374.npy: 6922 точек, pose = [10.9853525 -1.0929911  2.4933774]\n",
      "/home/likerobotics/lidar_filtered_dumps/filtered_1756549377.npy: 7692 точек, pose = [  1.2679242 -10.647457    1.6679021]\n",
      "/home/likerobotics/lidar_filtered_dumps/filtered_1756549380.npy: 8549 точек, pose = [ 1.302008  -9.856192   1.4850554]\n",
      "/home/likerobotics/lidar_filtered_dumps/filtered_1756549383.npy: 8528 точек, pose = [ 1.394538  -9.056346   1.4803923]\n",
      "/home/likerobotics/lidar_filtered_dumps/filtered_1756549386.npy: 7747 точек, pose = [ 7.859439  -1.4063214 -2.8977702]\n",
      "/home/likerobotics/lidar_filtered_dumps/filtered_1756549389.npy: 6964 точек, pose = [ 1.5753069 -7.4904385  1.4776111]\n",
      "/home/likerobotics/lidar_filtered_dumps/filtered_1756549392.npy: 7637 точек, pose = [ 6.308372  -1.7361586 -2.9295352]\n",
      "/home/likerobotics/lidar_filtered_dumps/filtered_1756549395.npy: 8563 точек, pose = [ 5.5181384 -1.8766705 -2.9883528]\n",
      "/home/likerobotics/lidar_filtered_dumps/filtered_1756549398.npy: 8437 точек, pose = [ 1.7036288 -5.1111546  1.5865376]\n",
      "/home/likerobotics/lidar_filtered_dumps/filtered_1756549401.npy: 7415 точек, pose = [ 1.5556824 -4.3250055  1.9398983]\n",
      "/home/likerobotics/lidar_filtered_dumps/filtered_1756549404.npy: 6875 точек, pose = [ 3.166448  -1.7110623  2.8665287]\n",
      "/home/likerobotics/lidar_filtered_dumps/filtered_1756549407.npy: 6335 точек, pose = [ 2.420501  -1.4681677  2.782753 ]\n",
      "/home/likerobotics/lidar_filtered_dumps/filtered_1756549410.npy: 7962 точек, pose = [ 0.50248325 -2.2070305   2.2043223 ]\n",
      "/home/likerobotics/lidar_filtered_dumps/filtered_1756549413.npy: 7857 точек, pose = [ 0.97945344 -0.7638296   2.8550096 ]\n",
      "/home/likerobotics/lidar_filtered_dumps/filtered_1756549416.npy: 7353 точек, pose = [ 0.20043276 -0.794744   -2.9562387 ]\n",
      "/home/likerobotics/lidar_filtered_dumps/filtered_1756549419.npy: 7625 точек, pose = [-0.48625615 -0.930298   -2.9382617 ]\n",
      "/home/likerobotics/lidar_filtered_dumps/filtered_1756549422.npy: 7434 точек, pose = [ 0.0740625  -0.07204972  0.81718415]\n",
      "/home/likerobotics/lidar_filtered_dumps/filtered_1756549425.npy: 7411 точек, pose = [ 0.09156845 -0.07979483 -0.23916751]\n",
      "/home/likerobotics/lidar_filtered_dumps/filtered_1756549428.npy: 7422 точек, pose = [-0.48893005 -0.9354103  -0.02094395]\n",
      "/home/likerobotics/lidar_filtered_dumps/filtered_1756549431.npy: 7265 точек, pose = [-0.48846564 -0.9353467   0.2125811 ]\n",
      "/home/likerobotics/lidar_filtered_dumps/filtered_1756549434.npy: 7684 точек, pose = [-0.48846564 -0.9353467   0.2125811 ]\n"
     ]
    }
   ],
   "source": [
    "# # Загружаем все дампы\n",
    "# files, clouds = load_all_dumps()\n",
    "\n",
    "# # Смотрим список файлов\n",
    "# for i, f in enumerate(files):\n",
    "#     print(i, f, clouds[i].shape)\n",
    "\n",
    "# Загружаем все дампы\n",
    "files, clouds_and_poses = load_all_dumps_with_pose()\n",
    "\n",
    "# Смотрим список файлов\n",
    "clouds = []\n",
    "poses = []\n",
    "for fname, (cloud, pose) in zip(files, clouds_and_poses):\n",
    "    print(f\"{fname}: {cloud.shape[0]} точек, pose = {pose}\")\n",
    "    clouds.append(cloud)    \n",
    "    poses.append(pose)\n",
    "    \n",
    "\n"
   ]
  },
  {
   "cell_type": "markdown",
   "metadata": {},
   "source": [
    "## Гистограмма интенсивности"
   ]
  },
  {
   "cell_type": "code",
   "execution_count": null,
   "metadata": {},
   "outputs": [],
   "source": []
  },
  {
   "cell_type": "code",
   "execution_count": 9,
   "metadata": {},
   "outputs": [
    {
     "data": {
      "image/png": "[encoded data removed]",
      "text/plain": [
       "<Figure size 800x500 with 1 Axes>"
      ]
     },
     "metadata": {},
     "output_type": "display_data"
    }
   ],
   "source": [
    "\n",
    "i = 3\n",
    "\n",
    "points = clouds[i]\n",
    "\n",
    "# Строим гистограмму интенсивности\n",
    "plot_intensity_hist(points, bins=100, title=f\"Intensity histogram: {files[i]}\")"
   ]
  },
  {
   "cell_type": "markdown",
   "metadata": {},
   "source": [
    "## Визуализация"
   ]
  },
  {
   "cell_type": "code",
   "execution_count": 11,
   "metadata": {},
   "outputs": [
    {
     "data": {
      "image/png": "[encoded data removed]",
      "text/plain": [
       "<Figure size 800x600 with 2 Axes>"
      ]
     },
     "metadata": {},
     "output_type": "display_data"
    }
   ],
   "source": [
    "\n",
    "visualize_inline(clouds[i], title=f\"Dump {i}: {files[i]}\")"
   ]
  },
  {
   "cell_type": "markdown",
   "metadata": {},
   "source": [
    "# Фильрация по инетсивности"
   ]
  },
  {
   "cell_type": "code",
   "execution_count": 12,
   "metadata": {},
   "outputs": [
    {
     "name": "stdout",
     "output_type": "stream",
     "text": [
      "Исходных точек: 7664, после фильтра: 39\n"
     ]
    }
   ],
   "source": [
    "filtered = filter_points(points,\n",
    "                         intensity_min=60, intensity_max=205,\n",
    "                         range_min=0.2, range_max=2.0,\n",
    "                         z_min=-0.5, z_max=0.5)\n",
    "\n",
    "print(f\"Исходных точек: {points.shape[0]}, после фильтра: {filtered.shape[0]}\")"
   ]
  },
  {
   "cell_type": "code",
   "execution_count": 13,
   "metadata": {},
   "outputs": [
    {
     "data": {
      "image/png": "[encoded data removed]",
      "text/plain": [
       "<Figure size 800x500 with 1 Axes>"
      ]
     },
     "metadata": {},
     "output_type": "display_data"
    }
   ],
   "source": [
    "plot_intensity_hist(filtered, bins=100, title=f\"Intensity histogram: {files[i]}\")"
   ]
  },
  {
   "cell_type": "code",
   "execution_count": 14,
   "metadata": {},
   "outputs": [
    {
     "data": {
      "application/vnd.plotly.v1+json": {
       "config": {
        "plotlyServerURL": "https://plot.ly"
       },
       "data": [
        {
         "marker": {
          "color": {
           "bdata": "AAAWQwAApkIAABZDAAABQwAAtEIAAAlDAAAWQwAAFkMAAJxCAAAWQwAAGkMAABlDAAAZQwAAGUMAABdDAAAYQwAA8EIAAMZCAADIQgAAFkMAABdDAACUQgAAFkMAABZDAAAGQwAAFkMAABpDAAAWQwAAG0MAABZDAAAbQwAAFkMAABpDAAAWQwAA2kIAABZDAAAWQwAAFkMAABZD",
           "dtype": "f4"
          },
          "colorscale": [
           [
            0,
            "#440154"
           ],
           [
            0.1111111111111111,
            "#482878"
           ],
           [
            0.2222222222222222,
            "#3e4989"
           ],
           [
            0.3333333333333333,
            "#31688e"
           ],
           [
            0.4444444444444444,
            "#26828e"
           ],
           [
            0.5555555555555556,
            "#1f9e89"
           ],
           [
            0.6666666666666666,
            "#35b779"
           ],
           [
            0.7777777777777778,
            "#6ece58"
           ],
           [
            0.8888888888888888,
            "#b5de2b"
           ],
           [
            1,
            "#fde725"
           ]
          ],
          "opacity": 0.8,
          "size": 2
         },
         "mode": "markers",
         "type": "scatter3d",
         "x": {
          "bdata": "EFgZPzMzM76HFhk/YhAYP+xRGD+amRk/rBwaP4cWGT9iEBg/mpkZPyPbGT+sHBo/NV4aP6wcGj+sHBo/I9sZPyPbGT+amRk/ke2sP4cWGT/RIhs/QmAFv1CNFz8GgRU/UI0XP3WTGD+sHBo//tQYPxBYGT/sURg/I9sZP3WTGD+HFhk/dZMYP1CNFz+amRk/mpkZP/7UGD+HFhk/",
          "dtype": "f4"
         },
         "y": {
          "bdata": "WDk0v90kxj+uR0G/L91Ev5huMr+HFjm/PzU+vx+FK7+gGi+/4Xo0vy/dJL/VeCm/308tv4XrMb8/NR6/N4khv0w3Kb+sHBq/NV46vvypMb+6SSy/EoPAP6abRL+HFjm/y6FFv1g5NL97FC6/BoE1v3sULr9qvDS/BFYuv30/Nb9okS2/F9kuv3NoMb8ZBDa/aJEtv8dLN7+gGi+/",
          "dtype": "f4"
         },
         "z": {
          "bdata": "hxZZPpqZmT5zaBE+aJHtPeXQIj7fTw0+1XjpPXe+Hz4CKwc+ZDvfPQisHD64HgU+0SLbPZ7vpz11kxg+JQYBPsHKoT1t5/s9c2gRPrbzfT0j23k9QmBlvarx0j3NzMw9qvHSPRfZzj3NzMw9g8DKPfCnxj3Jdr49NV66PVg5tD17FK49PzVePj81Xj4bL10+YhBYPqwcWj7P91M+",
          "dtype": "f4"
         }
        }
       ],
       "layout": {
        "margin": {
         "b": 0,
         "l": 0,
         "r": 0,
         "t": 30
        },
        "scene": {
         "aspectmode": "manual",
         "aspectratio": {
          "x": 1,
          "y": 1,
          "z": 1
         },
         "xaxis": {
          "range": [
           -0.7450000047683716,
           1.5749999284744263
          ],
          "title": {
           "text": "X [m]"
          }
         },
         "yaxis": {
          "range": [
           -0.7719999849796295,
           1.5479999482631683
          ],
          "title": {
           "text": "Y [m]"
          }
         },
         "zaxis": {
          "range": [
           -1.0379999577999115,
           1.2819999754428864
          ],
          "title": {
           "text": "Z [m]"
          }
         }
        },
        "template": {
         "data": {
          "bar": [
           {
            "error_x": {
             "color": "#2a3f5f"
            },
            "error_y": {
             "color": "#2a3f5f"
            },
            "marker": {
             "line": {
              "color": "#E5ECF6",
              "width": 0.5
             },
             "pattern": {
              "fillmode": "overlay",
              "size": 10,
              "solidity": 0.2
             }
            },
            "type": "bar"
           }
          ],
          "barpolar": [
           {
            "marker": {
             "line": {
              "color": "#E5ECF6",
              "width": 0.5
             },
             "pattern": {
              "fillmode": "overlay",
              "size": 10,
              "solidity": 0.2
             }
            },
            "type": "barpolar"
           }
          ],
          "carpet": [
           {
            "aaxis": {
             "endlinecolor": "#2a3f5f",
             "gridcolor": "white",
             "linecolor": "white",
             "minorgridcolor": "white",
             "startlinecolor": "#2a3f5f"
            },
            "baxis": {
             "endlinecolor": "#2a3f5f",
             "gridcolor": "white",
             "linecolor": "white",
             "minorgridcolor": "white",
             "startlinecolor": "#2a3f5f"
            },
            "type": "carpet"
           }
          ],
          "choropleth": [
           {
            "colorbar": {
             "outlinewidth": 0,
             "ticks": ""
            },
            "type": "choropleth"
           }
          ],
          "contour": [
           {
            "colorbar": {
             "outlinewidth": 0,
             "ticks": ""
            },
            "colorscale": [
             [
              0,
              "#0d0887"
             ],
             [
              0.1111111111111111,
              "#46039f"
             ],
             [
              0.2222222222222222,
              "#7201a8"
             ],
             [
              0.3333333333333333,
              "#9c179e"
             ],
             [
              0.4444444444444444,
              "#bd3786"
             ],
             [
              0.5555555555555556,
              "#d8576b"
             ],
             [
              0.6666666666666666,
              "#ed7953"
             ],
             [
              0.7777777777777778,
              "#fb9f3a"
             ],
             [
              0.8888888888888888,
              "#fdca26"
             ],
             [
              1,
              "#f0f921"
             ]
            ],
            "type": "contour"
           }
          ],
          "contourcarpet": [
           {
            "colorbar": {
             "outlinewidth": 0,
             "ticks": ""
            },
            "type": "contourcarpet"
           }
          ],
          "heatmap": [
           {
            "colorbar": {
             "outlinewidth": 0,
             "ticks": ""
            },
            "colorscale": [
             [
              0,
              "#0d0887"
             ],
             [
              0.1111111111111111,
              "#46039f"
             ],
             [
              0.2222222222222222,
              "#7201a8"
             ],
             [
              0.3333333333333333,
              "#9c179e"
             ],
             [
              0.4444444444444444,
              "#bd3786"
             ],
             [
              0.5555555555555556,
              "#d8576b"
             ],
             [
              0.6666666666666666,
              "#ed7953"
             ],
             [
              0.7777777777777778,
              "#fb9f3a"
             ],
             [
              0.8888888888888888,
              "#fdca26"
             ],
             [
              1,
              "#f0f921"
             ]
            ],
            "type": "heatmap"
           }
          ],
          "histogram": [
           {
            "marker": {
             "pattern": {
              "fillmode": "overlay",
              "size": 10,
              "solidity": 0.2
             }
            },
            "type": "histogram"
           }
          ],
          "histogram2d": [
           {
            "colorbar": {
             "outlinewidth": 0,
             "ticks": ""
            },
            "colorscale": [
             [
              0,
              "#0d0887"
             ],
             [
              0.1111111111111111,
              "#46039f"
             ],
             [
              0.2222222222222222,
              "#7201a8"
             ],
             [
              0.3333333333333333,
              "#9c179e"
             ],
             [
              0.4444444444444444,
              "#bd3786"
             ],
             [
              0.5555555555555556,
              "#d8576b"
             ],
             [
              0.6666666666666666,
              "#ed7953"
             ],
             [
              0.7777777777777778,
              "#fb9f3a"
             ],
             [
              0.8888888888888888,
              "#fdca26"
             ],
             [
              1,
              "#f0f921"
             ]
            ],
            "type": "histogram2d"
           }
          ],
          "histogram2dcontour": [
           {
            "colorbar": {
             "outlinewidth": 0,
             "ticks": ""
            },
            "colorscale": [
             [
              0,
              "#0d0887"
             ],
             [
              0.1111111111111111,
              "#46039f"
             ],
             [
              0.2222222222222222,
              "#7201a8"
             ],
             [
              0.3333333333333333,
              "#9c179e"
             ],
             [
              0.4444444444444444,
              "#bd3786"
             ],
             [
              0.5555555555555556,
              "#d8576b"
             ],
             [
              0.6666666666666666,
              "#ed7953"
             ],
             [
              0.7777777777777778,
              "#fb9f3a"
             ],
             [
              0.8888888888888888,
              "#fdca26"
             ],
             [
              1,
              "#f0f921"
             ]
            ],
            "type": "histogram2dcontour"
           }
          ],
          "mesh3d": [
           {
            "colorbar": {
             "outlinewidth": 0,
             "ticks": ""
            },
            "type": "mesh3d"
           }
          ],
          "parcoords": [
           {
            "line": {
             "colorbar": {
              "outlinewidth": 0,
              "ticks": ""
             }
            },
            "type": "parcoords"
           }
          ],
          "pie": [
           {
            "automargin": true,
            "type": "pie"
           }
          ],
          "scatter": [
           {
            "fillpattern": {
             "fillmode": "overlay",
             "size": 10,
             "solidity": 0.2
            },
            "type": "scatter"
           }
          ],
          "scatter3d": [
           {
            "line": {
             "colorbar": {
              "outlinewidth": 0,
              "ticks": ""
             }
            },
            "marker": {
             "colorbar": {
              "outlinewidth": 0,
              "ticks": ""
             }
            },
            "type": "scatter3d"
           }
          ],
          "scattercarpet": [
           {
            "marker": {
             "colorbar": {
              "outlinewidth": 0,
              "ticks": ""
             }
            },
            "type": "scattercarpet"
           }
          ],
          "scattergeo": [
           {
            "marker": {
             "colorbar": {
              "outlinewidth": 0,
              "ticks": ""
             }
            },
            "type": "scattergeo"
           }
          ],
          "scattergl": [
           {
            "marker": {
             "colorbar": {
              "outlinewidth": 0,
              "ticks": ""
             }
            },
            "type": "scattergl"
           }
          ],
          "scattermap": [
           {
            "marker": {
             "colorbar": {
              "outlinewidth": 0,
              "ticks": ""
             }
            },
            "type": "scattermap"
           }
          ],
          "scattermapbox": [
           {
            "marker": {
             "colorbar": {
              "outlinewidth": 0,
              "ticks": ""
             }
            },
            "type": "scattermapbox"
           }
          ],
          "scatterpolar": [
           {
            "marker": {
             "colorbar": {
              "outlinewidth": 0,
              "ticks": ""
             }
            },
            "type": "scatterpolar"
           }
          ],
          "scatterpolargl": [
           {
            "marker": {
             "colorbar": {
              "outlinewidth": 0,
              "ticks": ""
             }
            },
            "type": "scatterpolargl"
           }
          ],
          "scatterternary": [
           {
            "marker": {
             "colorbar": {
              "outlinewidth": 0,
              "ticks": ""
             }
            },
            "type": "scatterternary"
           }
          ],
          "surface": [
           {
            "colorbar": {
             "outlinewidth": 0,
             "ticks": ""
            },
            "colorscale": [
             [
              0,
              "#0d0887"
             ],
             [
              0.1111111111111111,
              "#46039f"
             ],
             [
              0.2222222222222222,
              "#7201a8"
             ],
             [
              0.3333333333333333,
              "#9c179e"
             ],
             [
              0.4444444444444444,
              "#bd3786"
             ],
             [
              0.5555555555555556,
              "#d8576b"
             ],
             [
              0.6666666666666666,
              "#ed7953"
             ],
             [
              0.7777777777777778,
              "#fb9f3a"
             ],
             [
              0.8888888888888888,
              "#fdca26"
             ],
             [
              1,
              "#f0f921"
             ]
            ],
            "type": "surface"
           }
          ],
          "table": [
           {
            "cells": {
             "fill": {
              "color": "#EBF0F8"
             },
             "line": {
              "color": "white"
             }
            },
            "header": {
             "fill": {
              "color": "#C8D4E3"
             },
             "line": {
              "color": "white"
             }
            },
            "type": "table"
           }
          ]
         },
         "layout": {
          "annotationdefaults": {
           "arrowcolor": "#2a3f5f",
           "arrowhead": 0,
           "arrowwidth": 1
          },
          "autotypenumbers": "strict",
          "coloraxis": {
           "colorbar": {
            "outlinewidth": 0,
            "ticks": ""
           }
          },
          "colorscale": {
           "diverging": [
            [
             0,
             "#8e0152"
            ],
            [
             0.1,
             "#c51b7d"
            ],
            [
             0.2,
             "#de77ae"
            ],
            [
             0.3,
             "#f1b6da"
            ],
            [
             0.4,
             "#fde0ef"
            ],
            [
             0.5,
             "#f7f7f7"
            ],
            [
             0.6,
             "#e6f5d0"
            ],
            [
             0.7,
             "#b8e186"
            ],
            [
             0.8,
             "#7fbc41"
            ],
            [
             0.9,
             "#4d9221"
            ],
            [
             1,
             "#276419"
            ]
           ],
           "sequential": [
            [
             0,
             "#0d0887"
            ],
            [
             0.1111111111111111,
             "#46039f"
            ],
            [
             0.2222222222222222,
             "#7201a8"
            ],
            [
             0.3333333333333333,
             "#9c179e"
            ],
            [
             0.4444444444444444,
             "#bd3786"
            ],
            [
             0.5555555555555556,
             "#d8576b"
            ],
            [
             0.6666666666666666,
             "#ed7953"
            ],
            [
             0.7777777777777778,
             "#fb9f3a"
            ],
            [
             0.8888888888888888,
             "#fdca26"
            ],
            [
             1,
             "#f0f921"
            ]
           ],
           "sequentialminus": [
            [
             0,
             "#0d0887"
            ],
            [
             0.1111111111111111,
             "#46039f"
            ],
            [
             0.2222222222222222,
             "#7201a8"
            ],
            [
             0.3333333333333333,
             "#9c179e"
            ],
            [
             0.4444444444444444,
             "#bd3786"
            ],
            [
             0.5555555555555556,
             "#d8576b"
            ],
            [
             0.6666666666666666,
             "#ed7953"
            ],
            [
             0.7777777777777778,
             "#fb9f3a"
            ],
            [
             0.8888888888888888,
             "#fdca26"
            ],
            [
             1,
             "#f0f921"
            ]
           ]
          },
          "colorway": [
           "#636efa",
           "#EF553B",
           "#00cc96",
           "#ab63fa",
           "#FFA15A",
           "#19d3f3",
           "#FF6692",
           "#B6E880",
           "#FF97FF",
           "#FECB52"
          ],
          "font": {
           "color": "#2a3f5f"
          },
          "geo": {
           "bgcolor": "white",
           "lakecolor": "white",
           "landcolor": "#E5ECF6",
           "showlakes": true,
           "showland": true,
           "subunitcolor": "white"
          },
          "hoverlabel": {
           "align": "left"
          },
          "hovermode": "closest",
          "mapbox": {
           "style": "light"
          },
          "paper_bgcolor": "white",
          "plot_bgcolor": "#E5ECF6",
          "polar": {
           "angularaxis": {
            "gridcolor": "white",
            "linecolor": "white",
            "ticks": ""
           },
           "bgcolor": "#E5ECF6",
           "radialaxis": {
            "gridcolor": "white",
            "linecolor": "white",
            "ticks": ""
           }
          },
          "scene": {
           "xaxis": {
            "backgroundcolor": "#E5ECF6",
            "gridcolor": "white",
            "gridwidth": 2,
            "linecolor": "white",
            "showbackground": true,
            "ticks": "",
            "zerolinecolor": "white"
           },
           "yaxis": {
            "backgroundcolor": "#E5ECF6",
            "gridcolor": "white",
            "gridwidth": 2,
            "linecolor": "white",
            "showbackground": true,
            "ticks": "",
            "zerolinecolor": "white"
           },
           "zaxis": {
            "backgroundcolor": "#E5ECF6",
            "gridcolor": "white",
            "gridwidth": 2,
            "linecolor": "white",
            "showbackground": true,
            "ticks": "",
            "zerolinecolor": "white"
           }
          },
          "shapedefaults": {
           "line": {
            "color": "#2a3f5f"
           }
          },
          "ternary": {
           "aaxis": {
            "gridcolor": "white",
            "linecolor": "white",
            "ticks": ""
           },
           "baxis": {
            "gridcolor": "white",
            "linecolor": "white",
            "ticks": ""
           },
           "bgcolor": "#E5ECF6",
           "caxis": {
            "gridcolor": "white",
            "linecolor": "white",
            "ticks": ""
           }
          },
          "title": {
           "x": 0.05
          },
          "xaxis": {
           "automargin": true,
           "gridcolor": "white",
           "linecolor": "white",
           "ticks": "",
           "title": {
            "standoff": 15
           },
           "zerolinecolor": "white",
           "zerolinewidth": 2
          },
          "yaxis": {
           "automargin": true,
           "gridcolor": "white",
           "linecolor": "white",
           "ticks": "",
           "title": {
            "standoff": 15
           },
           "zerolinecolor": "white",
           "zerolinewidth": 2
          }
         }
        },
        "title": {
         "text": "filtered"
        }
       }
      }
     },
     "metadata": {},
     "output_type": "display_data"
    }
   ],
   "source": [
    "visualize_cloud(filtered, title=\"filtered\")"
   ]
  },
  {
   "cell_type": "markdown",
   "metadata": {},
   "source": [
    "## Кластеризация"
   ]
  },
  {
   "cell_type": "code",
   "execution_count": 15,
   "metadata": {},
   "outputs": [
    {
     "name": "stdout",
     "output_type": "stream",
     "text": [
      "Главный кластер: 36 точек\n",
      "Выбросы: 3 точек\n"
     ]
    },
    {
     "data": {
      "application/vnd.plotly.v1+json": {
       "config": {
        "plotlyServerURL": "https://plot.ly"
       },
       "data": [
        {
         "marker": {
          "color": {
           "bdata": "AAAWQwAAFkMAAAFDAAC0QgAACUMAABZDAAAWQwAAnEIAABZDAAAaQwAAGUMAABlDAAAZQwAAF0MAABhDAADwQgAAxkIAABZDAAAXQwAAFkMAABZDAAAGQwAAFkMAABpDAAAWQwAAG0MAABZDAAAbQwAAFkMAABpDAAAWQwAA2kIAABZDAAAWQwAAFkMAABZD",
           "dtype": "f4"
          },
          "colorscale": [
           [
            0,
            "#440154"
           ],
           [
            0.1111111111111111,
            "#482878"
           ],
           [
            0.2222222222222222,
            "#3e4989"
           ],
           [
            0.3333333333333333,
            "#31688e"
           ],
           [
            0.4444444444444444,
            "#26828e"
           ],
           [
            0.5555555555555556,
            "#1f9e89"
           ],
           [
            0.6666666666666666,
            "#35b779"
           ],
           [
            0.7777777777777778,
            "#6ece58"
           ],
           [
            0.8888888888888888,
            "#b5de2b"
           ],
           [
            1,
            "#fde725"
           ]
          ],
          "opacity": 0.8,
          "size": 2
         },
         "mode": "markers",
         "type": "scatter3d",
         "x": {
          "bdata": "EFgZP4cWGT9iEBg/7FEYP5qZGT+sHBo/hxYZP2IQGD+amRk/I9sZP6wcGj81Xho/rBwaP6wcGj8j2xk/I9sZP5qZGT+HFhk/0SIbP1CNFz8GgRU/UI0XP3WTGD+sHBo//tQYPxBYGT/sURg/I9sZP3WTGD+HFhk/dZMYP1CNFz+amRk/mpkZP/7UGD+HFhk/",
          "dtype": "f4"
         },
         "y": {
          "bdata": "WDk0v65HQb8v3US/mG4yv4cWOb8/NT6/H4Urv6AaL7/hejS/L90kv9V4Kb/fTy2/hesxvz81Hr83iSG/TDcpv6wcGr/8qTG/ukksv6abRL+HFjm/y6FFv1g5NL97FC6/BoE1v3sULr9qvDS/BFYuv30/Nb9okS2/F9kuv3NoMb8ZBDa/aJEtv8dLN7+gGi+/",
          "dtype": "f4"
         },
         "z": {
          "bdata": "hxZZPnNoET5oke095dAiPt9PDT7VeOk9d74fPgIrBz5kO989CKwcPrgeBT7RIts9nu+nPXWTGD4lBgE+wcqhPW3n+z228309I9t5Parx0j3NzMw9qvHSPRfZzj3NzMw9g8DKPfCnxj3Jdr49NV66PVg5tD17FK49PzVePj81Xj4bL10+YhBYPqwcWj7P91M+",
          "dtype": "f4"
         }
        }
       ],
       "layout": {
        "margin": {
         "b": 0,
         "l": 0,
         "r": 0,
         "t": 30
        },
        "scene": {
         "aspectmode": "manual",
         "aspectratio": {
          "x": 1,
          "y": 1,
          "z": 1
         },
         "xaxis": {
          "range": [
           0.5100000202655792,
           0.6800000369548798
          ],
          "title": {
           "text": "X [m]"
          }
         },
         "yaxis": {
          "range": [
           -0.7720000445842743,
           -0.6020000278949738
          ],
          "title": {
           "text": "Y [m]"
          }
         },
         "zaxis": {
          "range": [
           0.05399999022483826,
           0.2240000069141388
          ],
          "title": {
           "text": "Z [m]"
          }
         }
        },
        "template": {
         "data": {
          "bar": [
           {
            "error_x": {
             "color": "#2a3f5f"
            },
            "error_y": {
             "color": "#2a3f5f"
            },
            "marker": {
             "line": {
              "color": "#E5ECF6",
              "width": 0.5
             },
             "pattern": {
              "fillmode": "overlay",
              "size": 10,
              "solidity": 0.2
             }
            },
            "type": "bar"
           }
          ],
          "barpolar": [
           {
            "marker": {
             "line": {
              "color": "#E5ECF6",
              "width": 0.5
             },
             "pattern": {
              "fillmode": "overlay",
              "size": 10,
              "solidity": 0.2
             }
            },
            "type": "barpolar"
           }
          ],
          "carpet": [
           {
            "aaxis": {
             "endlinecolor": "#2a3f5f",
             "gridcolor": "white",
             "linecolor": "white",
             "minorgridcolor": "white",
             "startlinecolor": "#2a3f5f"
            },
            "baxis": {
             "endlinecolor": "#2a3f5f",
             "gridcolor": "white",
             "linecolor": "white",
             "minorgridcolor": "white",
             "startlinecolor": "#2a3f5f"
            },
            "type": "carpet"
           }
          ],
          "choropleth": [
           {
            "colorbar": {
             "outlinewidth": 0,
             "ticks": ""
            },
            "type": "choropleth"
           }
          ],
          "contour": [
           {
            "colorbar": {
             "outlinewidth": 0,
             "ticks": ""
            },
            "colorscale": [
             [
              0,
              "#0d0887"
             ],
             [
              0.1111111111111111,
              "#46039f"
             ],
             [
              0.2222222222222222,
              "#7201a8"
             ],
             [
              0.3333333333333333,
              "#9c179e"
             ],
             [
              0.4444444444444444,
              "#bd3786"
             ],
             [
              0.5555555555555556,
              "#d8576b"
             ],
             [
              0.6666666666666666,
              "#ed7953"
             ],
             [
              0.7777777777777778,
              "#fb9f3a"
             ],
             [
              0.8888888888888888,
              "#fdca26"
             ],
             [
              1,
              "#f0f921"
             ]
            ],
            "type": "contour"
           }
          ],
          "contourcarpet": [
           {
            "colorbar": {
             "outlinewidth": 0,
             "ticks": ""
            },
            "type": "contourcarpet"
           }
          ],
          "heatmap": [
           {
            "colorbar": {
             "outlinewidth": 0,
             "ticks": ""
            },
            "colorscale": [
             [
              0,
              "#0d0887"
             ],
             [
              0.1111111111111111,
              "#46039f"
             ],
             [
              0.2222222222222222,
              "#7201a8"
             ],
             [
              0.3333333333333333,
              "#9c179e"
             ],
             [
              0.4444444444444444,
              "#bd3786"
             ],
             [
              0.5555555555555556,
              "#d8576b"
             ],
             [
              0.6666666666666666,
              "#ed7953"
             ],
             [
              0.7777777777777778,
              "#fb9f3a"
             ],
             [
              0.8888888888888888,
              "#fdca26"
             ],
             [
              1,
              "#f0f921"
             ]
            ],
            "type": "heatmap"
           }
          ],
          "histogram": [
           {
            "marker": {
             "pattern": {
              "fillmode": "overlay",
              "size": 10,
              "solidity": 0.2
             }
            },
            "type": "histogram"
           }
          ],
          "histogram2d": [
           {
            "colorbar": {
             "outlinewidth": 0,
             "ticks": ""
            },
            "colorscale": [
             [
              0,
              "#0d0887"
             ],
             [
              0.1111111111111111,
              "#46039f"
             ],
             [
              0.2222222222222222,
              "#7201a8"
             ],
             [
              0.3333333333333333,
              "#9c179e"
             ],
             [
              0.4444444444444444,
              "#bd3786"
             ],
             [
              0.5555555555555556,
              "#d8576b"
             ],
             [
              0.6666666666666666,
              "#ed7953"
             ],
             [
              0.7777777777777778,
              "#fb9f3a"
             ],
             [
              0.8888888888888888,
              "#fdca26"
             ],
             [
              1,
              "#f0f921"
             ]
            ],
            "type": "histogram2d"
           }
          ],
          "histogram2dcontour": [
           {
            "colorbar": {
             "outlinewidth": 0,
             "ticks": ""
            },
            "colorscale": [
             [
              0,
              "#0d0887"
             ],
             [
              0.1111111111111111,
              "#46039f"
             ],
             [
              0.2222222222222222,
              "#7201a8"
             ],
             [
              0.3333333333333333,
              "#9c179e"
             ],
             [
              0.4444444444444444,
              "#bd3786"
             ],
             [
              0.5555555555555556,
              "#d8576b"
             ],
             [
              0.6666666666666666,
              "#ed7953"
             ],
             [
              0.7777777777777778,
              "#fb9f3a"
             ],
             [
              0.8888888888888888,
              "#fdca26"
             ],
             [
              1,
              "#f0f921"
             ]
            ],
            "type": "histogram2dcontour"
           }
          ],
          "mesh3d": [
           {
            "colorbar": {
             "outlinewidth": 0,
             "ticks": ""
            },
            "type": "mesh3d"
           }
          ],
          "parcoords": [
           {
            "line": {
             "colorbar": {
              "outlinewidth": 0,
              "ticks": ""
             }
            },
            "type": "parcoords"
           }
          ],
          "pie": [
           {
            "automargin": true,
            "type": "pie"
           }
          ],
          "scatter": [
           {
            "fillpattern": {
             "fillmode": "overlay",
             "size": 10,
             "solidity": 0.2
            },
            "type": "scatter"
           }
          ],
          "scatter3d": [
           {
            "line": {
             "colorbar": {
              "outlinewidth": 0,
              "ticks": ""
             }
            },
            "marker": {
             "colorbar": {
              "outlinewidth": 0,
              "ticks": ""
             }
            },
            "type": "scatter3d"
           }
          ],
          "scattercarpet": [
           {
            "marker": {
             "colorbar": {
              "outlinewidth": 0,
              "ticks": ""
             }
            },
            "type": "scattercarpet"
           }
          ],
          "scattergeo": [
           {
            "marker": {
             "colorbar": {
              "outlinewidth": 0,
              "ticks": ""
             }
            },
            "type": "scattergeo"
           }
          ],
          "scattergl": [
           {
            "marker": {
             "colorbar": {
              "outlinewidth": 0,
              "ticks": ""
             }
            },
            "type": "scattergl"
           }
          ],
          "scattermap": [
           {
            "marker": {
             "colorbar": {
              "outlinewidth": 0,
              "ticks": ""
             }
            },
            "type": "scattermap"
           }
          ],
          "scattermapbox": [
           {
            "marker": {
             "colorbar": {
              "outlinewidth": 0,
              "ticks": ""
             }
            },
            "type": "scattermapbox"
           }
          ],
          "scatterpolar": [
           {
            "marker": {
             "colorbar": {
              "outlinewidth": 0,
              "ticks": ""
             }
            },
            "type": "scatterpolar"
           }
          ],
          "scatterpolargl": [
           {
            "marker": {
             "colorbar": {
              "outlinewidth": 0,
              "ticks": ""
             }
            },
            "type": "scatterpolargl"
           }
          ],
          "scatterternary": [
           {
            "marker": {
             "colorbar": {
              "outlinewidth": 0,
              "ticks": ""
             }
            },
            "type": "scatterternary"
           }
          ],
          "surface": [
           {
            "colorbar": {
             "outlinewidth": 0,
             "ticks": ""
            },
            "colorscale": [
             [
              0,
              "#0d0887"
             ],
             [
              0.1111111111111111,
              "#46039f"
             ],
             [
              0.2222222222222222,
              "#7201a8"
             ],
             [
              0.3333333333333333,
              "#9c179e"
             ],
             [
              0.4444444444444444,
              "#bd3786"
             ],
             [
              0.5555555555555556,
              "#d8576b"
             ],
             [
              0.6666666666666666,
              "#ed7953"
             ],
             [
              0.7777777777777778,
              "#fb9f3a"
             ],
             [
              0.8888888888888888,
              "#fdca26"
             ],
             [
              1,
              "#f0f921"
             ]
            ],
            "type": "surface"
           }
          ],
          "table": [
           {
            "cells": {
             "fill": {
              "color": "#EBF0F8"
             },
             "line": {
              "color": "white"
             }
            },
            "header": {
             "fill": {
              "color": "#C8D4E3"
             },
             "line": {
              "color": "white"
             }
            },
            "type": "table"
           }
          ]
         },
         "layout": {
          "annotationdefaults": {
           "arrowcolor": "#2a3f5f",
           "arrowhead": 0,
           "arrowwidth": 1
          },
          "autotypenumbers": "strict",
          "coloraxis": {
           "colorbar": {
            "outlinewidth": 0,
            "ticks": ""
           }
          },
          "colorscale": {
           "diverging": [
            [
             0,
             "#8e0152"
            ],
            [
             0.1,
             "#c51b7d"
            ],
            [
             0.2,
             "#de77ae"
            ],
            [
             0.3,
             "#f1b6da"
            ],
            [
             0.4,
             "#fde0ef"
            ],
            [
             0.5,
             "#f7f7f7"
            ],
            [
             0.6,
             "#e6f5d0"
            ],
            [
             0.7,
             "#b8e186"
            ],
            [
             0.8,
             "#7fbc41"
            ],
            [
             0.9,
             "#4d9221"
            ],
            [
             1,
             "#276419"
            ]
           ],
           "sequential": [
            [
             0,
             "#0d0887"
            ],
            [
             0.1111111111111111,
             "#46039f"
            ],
            [
             0.2222222222222222,
             "#7201a8"
            ],
            [
             0.3333333333333333,
             "#9c179e"
            ],
            [
             0.4444444444444444,
             "#bd3786"
            ],
            [
             0.5555555555555556,
             "#d8576b"
            ],
            [
             0.6666666666666666,
             "#ed7953"
            ],
            [
             0.7777777777777778,
             "#fb9f3a"
            ],
            [
             0.8888888888888888,
             "#fdca26"
            ],
            [
             1,
             "#f0f921"
            ]
           ],
           "sequentialminus": [
            [
             0,
             "#0d0887"
            ],
            [
             0.1111111111111111,
             "#46039f"
            ],
            [
             0.2222222222222222,
             "#7201a8"
            ],
            [
             0.3333333333333333,
             "#9c179e"
            ],
            [
             0.4444444444444444,
             "#bd3786"
            ],
            [
             0.5555555555555556,
             "#d8576b"
            ],
            [
             0.6666666666666666,
             "#ed7953"
            ],
            [
             0.7777777777777778,
             "#fb9f3a"
            ],
            [
             0.8888888888888888,
             "#fdca26"
            ],
            [
             1,
             "#f0f921"
            ]
           ]
          },
          "colorway": [
           "#636efa",
           "#EF553B",
           "#00cc96",
           "#ab63fa",
           "#FFA15A",
           "#19d3f3",
           "#FF6692",
           "#B6E880",
           "#FF97FF",
           "#FECB52"
          ],
          "font": {
           "color": "#2a3f5f"
          },
          "geo": {
           "bgcolor": "white",
           "lakecolor": "white",
           "landcolor": "#E5ECF6",
           "showlakes": true,
           "showland": true,
           "subunitcolor": "white"
          },
          "hoverlabel": {
           "align": "left"
          },
          "hovermode": "closest",
          "mapbox": {
           "style": "light"
          },
          "paper_bgcolor": "white",
          "plot_bgcolor": "#E5ECF6",
          "polar": {
           "angularaxis": {
            "gridcolor": "white",
            "linecolor": "white",
            "ticks": ""
           },
           "bgcolor": "#E5ECF6",
           "radialaxis": {
            "gridcolor": "white",
            "linecolor": "white",
            "ticks": ""
           }
          },
          "scene": {
           "xaxis": {
            "backgroundcolor": "#E5ECF6",
            "gridcolor": "white",
            "gridwidth": 2,
            "linecolor": "white",
            "showbackground": true,
            "ticks": "",
            "zerolinecolor": "white"
           },
           "yaxis": {
            "backgroundcolor": "#E5ECF6",
            "gridcolor": "white",
            "gridwidth": 2,
            "linecolor": "white",
            "showbackground": true,
            "ticks": "",
            "zerolinecolor": "white"
           },
           "zaxis": {
            "backgroundcolor": "#E5ECF6",
            "gridcolor": "white",
            "gridwidth": 2,
            "linecolor": "white",
            "showbackground": true,
            "ticks": "",
            "zerolinecolor": "white"
           }
          },
          "shapedefaults": {
           "line": {
            "color": "#2a3f5f"
           }
          },
          "ternary": {
           "aaxis": {
            "gridcolor": "white",
            "linecolor": "white",
            "ticks": ""
           },
           "baxis": {
            "gridcolor": "white",
            "linecolor": "white",
            "ticks": ""
           },
           "bgcolor": "#E5ECF6",
           "caxis": {
            "gridcolor": "white",
            "linecolor": "white",
            "ticks": ""
           }
          },
          "title": {
           "x": 0.05
          },
          "xaxis": {
           "automargin": true,
           "gridcolor": "white",
           "linecolor": "white",
           "ticks": "",
           "title": {
            "standoff": 15
           },
           "zerolinecolor": "white",
           "zerolinewidth": 2
          },
          "yaxis": {
           "automargin": true,
           "gridcolor": "white",
           "linecolor": "white",
           "ticks": "",
           "title": {
            "standoff": 15
           },
           "zerolinecolor": "white",
           "zerolinewidth": 2
          }
         }
        },
        "title": {
         "text": "Main Cluster (DBSCAN)"
        }
       }
      }
     },
     "metadata": {},
     "output_type": "display_data"
    }
   ],
   "source": [
    "# Кластеризация\n",
    "labels, main_cluster, outliers = largest_cluster_outliers(filtered, eps=0.1, min_samples=20)\n",
    "\n",
    "print(f\"Главный кластер: {main_cluster.shape[0]} точек\")\n",
    "print(f\"Выбросы: {outliers.shape[0]} точек\")\n",
    "\n",
    "# Визуализируем\n",
    "visualize_cloud(main_cluster, title=\"Main Cluster (DBSCAN)\")"
   ]
  },
  {
   "cell_type": "markdown",
   "metadata": {},
   "source": [
    "# Запускаем RANSAC"
   ]
  },
  {
   "cell_type": "code",
   "execution_count": 16,
   "metadata": {},
   "outputs": [
    {
     "name": "stdout",
     "output_type": "stream",
     "text": [
      "Найденная плоскость: ax+by+cz+d=0\n",
      "[ 0.99846961 -0.05434393  0.01025586 -0.63621459]\n",
      "На плоскости: 36 точек\n",
      "Выбросы: 0 точек\n",
      "Файл пустой или нет точек\n"
     ]
    }
   ],
   "source": [
    "\n",
    "plane_model, inliers, outliers = ransac_plane_outliers(main_cluster, distance_threshold=0.025)\n",
    "\n",
    "print(\"Найденная плоскость: ax+by+cz+d=0\")\n",
    "print(plane_model)\n",
    "print(f\"На плоскости: {inliers.shape[0]} точек\")\n",
    "print(f\"Выбросы: {outliers.shape[0]} точек\")\n",
    "\n",
    "# Визуализируем выбросы\n",
    "visualize_cloud(outliers, title=\"Outliers (не на плоскости)\")"
   ]
  },
  {
   "cell_type": "code",
   "execution_count": 17,
   "metadata": {},
   "outputs": [
    {
     "data": {
      "text/plain": [
       "(36, 4)"
      ]
     },
     "execution_count": 17,
     "metadata": {},
     "output_type": "execute_result"
    }
   ],
   "source": [
    "inliers.shape"
   ]
  },
  {
   "cell_type": "code",
   "execution_count": 18,
   "metadata": {},
   "outputs": [
    {
     "data": {
      "application/vnd.plotly.v1+json": {
       "config": {
        "plotlyServerURL": "https://plot.ly"
       },
       "data": [
        {
         "marker": {
          "color": "green",
          "opacity": 0.6,
          "size": 2
         },
         "mode": "markers",
         "name": "Inliers",
         "type": "scatter3d",
         "x": {
          "bdata": "EFgZP4cWGT9iEBg/7FEYP5qZGT+sHBo/hxYZP2IQGD+amRk/I9sZP6wcGj81Xho/rBwaP6wcGj8j2xk/I9sZP5qZGT+HFhk/0SIbP1CNFz8GgRU/UI0XP3WTGD+sHBo//tQYPxBYGT/sURg/I9sZP3WTGD+HFhk/dZMYP1CNFz+amRk/mpkZP/7UGD+HFhk/",
          "dtype": "f4"
         },
         "y": {
          "bdata": "WDk0v65HQb8v3US/mG4yv4cWOb8/NT6/H4Urv6AaL7/hejS/L90kv9V4Kb/fTy2/hesxvz81Hr83iSG/TDcpv6wcGr/8qTG/ukksv6abRL+HFjm/y6FFv1g5NL97FC6/BoE1v3sULr9qvDS/BFYuv30/Nb9okS2/F9kuv3NoMb8ZBDa/aJEtv8dLN7+gGi+/",
          "dtype": "f4"
         },
         "z": {
          "bdata": "hxZZPnNoET5oke095dAiPt9PDT7VeOk9d74fPgIrBz5kO989CKwcPrgeBT7RIts9nu+nPXWTGD4lBgE+wcqhPW3n+z228309I9t5Parx0j3NzMw9qvHSPRfZzj3NzMw9g8DKPfCnxj3Jdr49NV66PVg5tD17FK49PzVePj81Xj4bL10+YhBYPqwcWj7P91M+",
          "dtype": "f4"
         }
        },
        {
         "marker": {
          "color": "red",
          "opacity": 0.6,
          "size": 2
         },
         "mode": "markers",
         "name": "Outliers",
         "type": "scatter3d",
         "x": [],
         "y": [],
         "z": []
        },
        {
         "colorscale": [
          [
           0,
           "blue"
          ],
          [
           1,
           "blue"
          ]
         ],
         "name": "Plane",
         "opacity": 0.3,
         "type": "surface",
         "x": {
          "bdata": "AAAAAAAA+L+rqqqqqqryv6uqqqqqquq/AAAAAAAA4L9YVVVVVVXFv1BVVVVVVcU/AAAAAAAA4D+oqqqqqqrqP6qqqqqqqvI/AAAAAAAA+D8AAAAAAAD4v6uqqqqqqvK/q6qqqqqq6r8AAAAAAADgv1hVVVVVVcW/UFVVVVVVxT8AAAAAAADgP6iqqqqqquo/qqqqqqqq8j8AAAAAAAD4PwAAAAAAAPi/q6qqqqqq8r+rqqqqqqrqvwAAAAAAAOC/WFVVVVVVxb9QVVVVVVXFPwAAAAAAAOA/qKqqqqqq6j+qqqqqqqryPwAAAAAAAPg/AAAAAAAA+L+rqqqqqqryv6uqqqqqquq/AAAAAAAA4L9YVVVVVVXFv1BVVVVVVcU/AAAAAAAA4D+oqqqqqqrqP6qqqqqqqvI/AAAAAAAA+D8AAAAAAAD4v6uqqqqqqvK/q6qqqqqq6r8AAAAAAADgv1hVVVVVVcW/UFVVVVVVxT8AAAAAAADgP6iqqqqqquo/qqqqqqqq8j8AAAAAAAD4PwAAAAAAAPi/q6qqqqqq8r+rqqqqqqrqvwAAAAAAAOC/WFVVVVVVxb9QVVVVVVXFPwAAAAAAAOA/qKqqqqqq6j+qqqqqqqryPwAAAAAAAPg/AAAAAAAA+L+rqqqqqqryv6uqqqqqquq/AAAAAAAA4L9YVVVVVVXFv1BVVVVVVcU/AAAAAAAA4D+oqqqqqqrqP6qqqqqqqvI/AAAAAAAA+D8AAAAAAAD4v6uqqqqqqvK/q6qqqqqq6r8AAAAAAADgv1hVVVVVVcW/UFVVVVVVxT8AAAAAAADgP6iqqqqqquo/qqqqqqqq8j8AAAAAAAD4PwAAAAAAAPi/q6qqqqqq8r+rqqqqqqrqvwAAAAAAAOC/WFVVVVVVxb9QVVVVVVXFPwAAAAAAAOA/qKqqqqqq6j+qqqqqqqryPwAAAAAAAPg/AAAAAAAA+L+rqqqqqqryv6uqqqqqquq/AAAAAAAA4L9YVVVVVVXFv1BVVVVVVcU/AAAAAAAA4D+oqqqqqqrqP6qqqqqqqvI/AAAAAAAA+D8=",
          "dtype": "f8",
          "shape": "10, 10"
         },
         "y": {
          "bdata": "AAAAAAAA+L8AAAAAAAD4vwAAAAAAAPi/AAAAAAAA+L8AAAAAAAD4vwAAAAAAAPi/AAAAAAAA+L8AAAAAAAD4vwAAAAAAAPi/AAAAAAAA+L+rqqqqqqryv6uqqqqqqvK/q6qqqqqq8r+rqqqqqqryv6uqqqqqqvK/q6qqqqqq8r+rqqqqqqryv6uqqqqqqvK/q6qqqqqq8r+rqqqqqqryv6uqqqqqquq/q6qqqqqq6r+rqqqqqqrqv6uqqqqqquq/q6qqqqqq6r+rqqqqqqrqv6uqqqqqquq/q6qqqqqq6r+rqqqqqqrqv6uqqqqqquq/AAAAAAAA4L8AAAAAAADgvwAAAAAAAOC/AAAAAAAA4L8AAAAAAADgvwAAAAAAAOC/AAAAAAAA4L8AAAAAAADgvwAAAAAAAOC/AAAAAAAA4L9YVVVVVVXFv1hVVVVVVcW/WFVVVVVVxb9YVVVVVVXFv1hVVVVVVcW/WFVVVVVVxb9YVVVVVVXFv1hVVVVVVcW/WFVVVVVVxb9YVVVVVVXFv1BVVVVVVcU/UFVVVVVVxT9QVVVVVVXFP1BVVVVVVcU/UFVVVVVVxT9QVVVVVVXFP1BVVVVVVcU/UFVVVVVVxT9QVVVVVVXFP1BVVVVVVcU/AAAAAAAA4D8AAAAAAADgPwAAAAAAAOA/AAAAAAAA4D8AAAAAAADgPwAAAAAAAOA/AAAAAAAA4D8AAAAAAADgPwAAAAAAAOA/AAAAAAAA4D+oqqqqqqrqP6iqqqqqquo/qKqqqqqq6j+oqqqqqqrqP6iqqqqqquo/qKqqqqqq6j+oqqqqqqrqP6iqqqqqquo/qKqqqqqq6j+oqqqqqqrqP6qqqqqqqvI/qqqqqqqq8j+qqqqqqqryP6qqqqqqqvI/qqqqqqqq8j+qqqqqqqryP6qqqqqqqvI/qqqqqqqq8j+qqqqqqqryP6qqqqqqqvI/AAAAAAAA+D8AAAAAAAD4PwAAAAAAAPg/AAAAAAAA+D8AAAAAAAD4PwAAAAAAAPg/AAAAAAAA+D8AAAAAAAD4PwAAAAAAAPg/AAAAAAAA+D8=",
          "dtype": "f8",
          "shape": "10, 10"
         },
         "z": {
          "bdata": "vKmyxtcDaUAFYPblYPVkQE4WOgXq5mBAL5n7SOawWUDDBYOH+JNRQK7kFIwV7kJAju4dSdChFUAJ0przQgs7wN+Pvvx8v03AXtvXP6z8VsAs5jcVXTxpQHacezTmLWVAv1K/U28fYUAREgbm8CFaQKV+jSQDBVJAcdYpxirQQ0CwfMUZerIcQIDucH8YRznAHJ6pwmfdTMB9Ys2ioYtWwJ0ivWPidGlA5tgAg2tmZUAwj0Si9FdhQPKKEIP7klpAhveXwQ12UkA1yD4AQLJEQGOFNvWR4SFA+gpHC+6CN8BWrJSIUvtLwJrpwgWXGlbADl9CsmetaUBXFYbR8J5lQKDLyfB5kGFA1QMbIAYEW0BocKJeGOdSQPi5UzpVlEVAbkyK3eZpJUB1Jx2Xw741wJS6f049GUvAuXC4aIypVcB+m8cA7eVpQMhRCyB212VAEghPP//IYUC2fCW9EHVbQErprPsiWFNAu6todGp2RkCAE97FO/IoQOxD8yKZ+jPA0chqFCg3SsDX963LgThVwO/XTE9yHmpAOI6QbvsPZkCDRNSNhAFiQJj1L1ob5ltAK2K3mC3JU0B/nX2uf1hHQIvaMa6QeixAZ2DJrm42MsAO11XaElVJwPZ+oy53x1TAYBTSnfdWakCpyhW9gEhmQPSAWdwJOmJAe2469yVXXEAN28E1ODpUQEKPkuiUOkhAzNBCy3IBMEDefJ86RHIwwEvlQKD9ckjAFAaZkWxWVMDQUFfsfI9qQBoHmwsGgWZAZb3eKo9yYkBc50SUMMhcQO9TzNJCq1RABoGnIqocSUBTtGw/ncUxQLEy64wzXC3AiPMrZuiQR8AzjY70YeVTwEON3DoCyGpAjEMgWou5ZkDV+WN5FKtiQD1gTzE7OV1A0MzWb00cVUDJcrxcv/5JQNmXlrPHiTNApmuXpN7TKcDDARcs065GwFAUhFdXdFPAs8lhiYcAa0D9f6WoEPJmQEY26ceZ42JAH9lZzkWqXUCyReEMWI1VQItk0ZbU4EpAYnvAJ/JNNUCVpEO8iUsmwAAQAvK9zEXAb5t5ukwDU8A=",
          "dtype": "f8",
          "shape": "10, 10"
         }
        }
       ],
       "layout": {
        "margin": {
         "b": 0,
         "l": 0,
         "r": 0,
         "t": 30
        },
        "scene": {
         "aspectmode": "manual",
         "aspectratio": {
          "x": 1,
          "y": 1,
          "z": 1
         },
         "xaxis": {
          "range": [
           0.5100000202655792,
           0.6800000369548798
          ],
          "title": {
           "text": "X"
          }
         },
         "yaxis": {
          "range": [
           -0.7720000445842743,
           -0.6020000278949738
          ],
          "title": {
           "text": "Y"
          }
         },
         "zaxis": {
          "range": [
           0.05399999022483826,
           0.2240000069141388
          ],
          "title": {
           "text": "Z"
          }
         }
        },
        "template": {
         "data": {
          "bar": [
           {
            "error_x": {
             "color": "#2a3f5f"
            },
            "error_y": {
             "color": "#2a3f5f"
            },
            "marker": {
             "line": {
              "color": "#E5ECF6",
              "width": 0.5
             },
             "pattern": {
              "fillmode": "overlay",
              "size": 10,
              "solidity": 0.2
             }
            },
            "type": "bar"
           }
          ],
          "barpolar": [
           {
            "marker": {
             "line": {
              "color": "#E5ECF6",
              "width": 0.5
             },
             "pattern": {
              "fillmode": "overlay",
              "size": 10,
              "solidity": 0.2
             }
            },
            "type": "barpolar"
           }
          ],
          "carpet": [
           {
            "aaxis": {
             "endlinecolor": "#2a3f5f",
             "gridcolor": "white",
             "linecolor": "white",
             "minorgridcolor": "white",
             "startlinecolor": "#2a3f5f"
            },
            "baxis": {
             "endlinecolor": "#2a3f5f",
             "gridcolor": "white",
             "linecolor": "white",
             "minorgridcolor": "white",
             "startlinecolor": "#2a3f5f"
            },
            "type": "carpet"
           }
          ],
          "choropleth": [
           {
            "colorbar": {
             "outlinewidth": 0,
             "ticks": ""
            },
            "type": "choropleth"
           }
          ],
          "contour": [
           {
            "colorbar": {
             "outlinewidth": 0,
             "ticks": ""
            },
            "colorscale": [
             [
              0,
              "#0d0887"
             ],
             [
              0.1111111111111111,
              "#46039f"
             ],
             [
              0.2222222222222222,
              "#7201a8"
             ],
             [
              0.3333333333333333,
              "#9c179e"
             ],
             [
              0.4444444444444444,
              "#bd3786"
             ],
             [
              0.5555555555555556,
              "#d8576b"
             ],
             [
              0.6666666666666666,
              "#ed7953"
             ],
             [
              0.7777777777777778,
              "#fb9f3a"
             ],
             [
              0.8888888888888888,
              "#fdca26"
             ],
             [
              1,
              "#f0f921"
             ]
            ],
            "type": "contour"
           }
          ],
          "contourcarpet": [
           {
            "colorbar": {
             "outlinewidth": 0,
             "ticks": ""
            },
            "type": "contourcarpet"
           }
          ],
          "heatmap": [
           {
            "colorbar": {
             "outlinewidth": 0,
             "ticks": ""
            },
            "colorscale": [
             [
              0,
              "#0d0887"
             ],
             [
              0.1111111111111111,
              "#46039f"
             ],
             [
              0.2222222222222222,
              "#7201a8"
             ],
             [
              0.3333333333333333,
              "#9c179e"
             ],
             [
              0.4444444444444444,
              "#bd3786"
             ],
             [
              0.5555555555555556,
              "#d8576b"
             ],
             [
              0.6666666666666666,
              "#ed7953"
             ],
             [
              0.7777777777777778,
              "#fb9f3a"
             ],
             [
              0.8888888888888888,
              "#fdca26"
             ],
             [
              1,
              "#f0f921"
             ]
            ],
            "type": "heatmap"
           }
          ],
          "histogram": [
           {
            "marker": {
             "pattern": {
              "fillmode": "overlay",
              "size": 10,
              "solidity": 0.2
             }
            },
            "type": "histogram"
           }
          ],
          "histogram2d": [
           {
            "colorbar": {
             "outlinewidth": 0,
             "ticks": ""
            },
            "colorscale": [
             [
              0,
              "#0d0887"
             ],
             [
              0.1111111111111111,
              "#46039f"
             ],
             [
              0.2222222222222222,
              "#7201a8"
             ],
             [
              0.3333333333333333,
              "#9c179e"
             ],
             [
              0.4444444444444444,
              "#bd3786"
             ],
             [
              0.5555555555555556,
              "#d8576b"
             ],
             [
              0.6666666666666666,
              "#ed7953"
             ],
             [
              0.7777777777777778,
              "#fb9f3a"
             ],
             [
              0.8888888888888888,
              "#fdca26"
             ],
             [
              1,
              "#f0f921"
             ]
            ],
            "type": "histogram2d"
           }
          ],
          "histogram2dcontour": [
           {
            "colorbar": {
             "outlinewidth": 0,
             "ticks": ""
            },
            "colorscale": [
             [
              0,
              "#0d0887"
             ],
             [
              0.1111111111111111,
              "#46039f"
             ],
             [
              0.2222222222222222,
              "#7201a8"
             ],
             [
              0.3333333333333333,
              "#9c179e"
             ],
             [
              0.4444444444444444,
              "#bd3786"
             ],
             [
              0.5555555555555556,
              "#d8576b"
             ],
             [
              0.6666666666666666,
              "#ed7953"
             ],
             [
              0.7777777777777778,
              "#fb9f3a"
             ],
             [
              0.8888888888888888,
              "#fdca26"
             ],
             [
              1,
              "#f0f921"
             ]
            ],
            "type": "histogram2dcontour"
           }
          ],
          "mesh3d": [
           {
            "colorbar": {
             "outlinewidth": 0,
             "ticks": ""
            },
            "type": "mesh3d"
           }
          ],
          "parcoords": [
           {
            "line": {
             "colorbar": {
              "outlinewidth": 0,
              "ticks": ""
             }
            },
            "type": "parcoords"
           }
          ],
          "pie": [
           {
            "automargin": true,
            "type": "pie"
           }
          ],
          "scatter": [
           {
            "fillpattern": {
             "fillmode": "overlay",
             "size": 10,
             "solidity": 0.2
            },
            "type": "scatter"
           }
          ],
          "scatter3d": [
           {
            "line": {
             "colorbar": {
              "outlinewidth": 0,
              "ticks": ""
             }
            },
            "marker": {
             "colorbar": {
              "outlinewidth": 0,
              "ticks": ""
             }
            },
            "type": "scatter3d"
           }
          ],
          "scattercarpet": [
           {
            "marker": {
             "colorbar": {
              "outlinewidth": 0,
              "ticks": ""
             }
            },
            "type": "scattercarpet"
           }
          ],
          "scattergeo": [
           {
            "marker": {
             "colorbar": {
              "outlinewidth": 0,
              "ticks": ""
             }
            },
            "type": "scattergeo"
           }
          ],
          "scattergl": [
           {
            "marker": {
             "colorbar": {
              "outlinewidth": 0,
              "ticks": ""
             }
            },
            "type": "scattergl"
           }
          ],
          "scattermap": [
           {
            "marker": {
             "colorbar": {
              "outlinewidth": 0,
              "ticks": ""
             }
            },
            "type": "scattermap"
           }
          ],
          "scattermapbox": [
           {
            "marker": {
             "colorbar": {
              "outlinewidth": 0,
              "ticks": ""
             }
            },
            "type": "scattermapbox"
           }
          ],
          "scatterpolar": [
           {
            "marker": {
             "colorbar": {
              "outlinewidth": 0,
              "ticks": ""
             }
            },
            "type": "scatterpolar"
           }
          ],
          "scatterpolargl": [
           {
            "marker": {
             "colorbar": {
              "outlinewidth": 0,
              "ticks": ""
             }
            },
            "type": "scatterpolargl"
           }
          ],
          "scatterternary": [
           {
            "marker": {
             "colorbar": {
              "outlinewidth": 0,
              "ticks": ""
             }
            },
            "type": "scatterternary"
           }
          ],
          "surface": [
           {
            "colorbar": {
             "outlinewidth": 0,
             "ticks": ""
            },
            "colorscale": [
             [
              0,
              "#0d0887"
             ],
             [
              0.1111111111111111,
              "#46039f"
             ],
             [
              0.2222222222222222,
              "#7201a8"
             ],
             [
              0.3333333333333333,
              "#9c179e"
             ],
             [
              0.4444444444444444,
              "#bd3786"
             ],
             [
              0.5555555555555556,
              "#d8576b"
             ],
             [
              0.6666666666666666,
              "#ed7953"
             ],
             [
              0.7777777777777778,
              "#fb9f3a"
             ],
             [
              0.8888888888888888,
              "#fdca26"
             ],
             [
              1,
              "#f0f921"
             ]
            ],
            "type": "surface"
           }
          ],
          "table": [
           {
            "cells": {
             "fill": {
              "color": "#EBF0F8"
             },
             "line": {
              "color": "white"
             }
            },
            "header": {
             "fill": {
              "color": "#C8D4E3"
             },
             "line": {
              "color": "white"
             }
            },
            "type": "table"
           }
          ]
         },
         "layout": {
          "annotationdefaults": {
           "arrowcolor": "#2a3f5f",
           "arrowhead": 0,
           "arrowwidth": 1
          },
          "autotypenumbers": "strict",
          "coloraxis": {
           "colorbar": {
            "outlinewidth": 0,
            "ticks": ""
           }
          },
          "colorscale": {
           "diverging": [
            [
             0,
             "#8e0152"
            ],
            [
             0.1,
             "#c51b7d"
            ],
            [
             0.2,
             "#de77ae"
            ],
            [
             0.3,
             "#f1b6da"
            ],
            [
             0.4,
             "#fde0ef"
            ],
            [
             0.5,
             "#f7f7f7"
            ],
            [
             0.6,
             "#e6f5d0"
            ],
            [
             0.7,
             "#b8e186"
            ],
            [
             0.8,
             "#7fbc41"
            ],
            [
             0.9,
             "#4d9221"
            ],
            [
             1,
             "#276419"
            ]
           ],
           "sequential": [
            [
             0,
             "#0d0887"
            ],
            [
             0.1111111111111111,
             "#46039f"
            ],
            [
             0.2222222222222222,
             "#7201a8"
            ],
            [
             0.3333333333333333,
             "#9c179e"
            ],
            [
             0.4444444444444444,
             "#bd3786"
            ],
            [
             0.5555555555555556,
             "#d8576b"
            ],
            [
             0.6666666666666666,
             "#ed7953"
            ],
            [
             0.7777777777777778,
             "#fb9f3a"
            ],
            [
             0.8888888888888888,
             "#fdca26"
            ],
            [
             1,
             "#f0f921"
            ]
           ],
           "sequentialminus": [
            [
             0,
             "#0d0887"
            ],
            [
             0.1111111111111111,
             "#46039f"
            ],
            [
             0.2222222222222222,
             "#7201a8"
            ],
            [
             0.3333333333333333,
             "#9c179e"
            ],
            [
             0.4444444444444444,
             "#bd3786"
            ],
            [
             0.5555555555555556,
             "#d8576b"
            ],
            [
             0.6666666666666666,
             "#ed7953"
            ],
            [
             0.7777777777777778,
             "#fb9f3a"
            ],
            [
             0.8888888888888888,
             "#fdca26"
            ],
            [
             1,
             "#f0f921"
            ]
           ]
          },
          "colorway": [
           "#636efa",
           "#EF553B",
           "#00cc96",
           "#ab63fa",
           "#FFA15A",
           "#19d3f3",
           "#FF6692",
           "#B6E880",
           "#FF97FF",
           "#FECB52"
          ],
          "font": {
           "color": "#2a3f5f"
          },
          "geo": {
           "bgcolor": "white",
           "lakecolor": "white",
           "landcolor": "#E5ECF6",
           "showlakes": true,
           "showland": true,
           "subunitcolor": "white"
          },
          "hoverlabel": {
           "align": "left"
          },
          "hovermode": "closest",
          "mapbox": {
           "style": "light"
          },
          "paper_bgcolor": "white",
          "plot_bgcolor": "#E5ECF6",
          "polar": {
           "angularaxis": {
            "gridcolor": "white",
            "linecolor": "white",
            "ticks": ""
           },
           "bgcolor": "#E5ECF6",
           "radialaxis": {
            "gridcolor": "white",
            "linecolor": "white",
            "ticks": ""
           }
          },
          "scene": {
           "xaxis": {
            "backgroundcolor": "#E5ECF6",
            "gridcolor": "white",
            "gridwidth": 2,
            "linecolor": "white",
            "showbackground": true,
            "ticks": "",
            "zerolinecolor": "white"
           },
           "yaxis": {
            "backgroundcolor": "#E5ECF6",
            "gridcolor": "white",
            "gridwidth": 2,
            "linecolor": "white",
            "showbackground": true,
            "ticks": "",
            "zerolinecolor": "white"
           },
           "zaxis": {
            "backgroundcolor": "#E5ECF6",
            "gridcolor": "white",
            "gridwidth": 2,
            "linecolor": "white",
            "showbackground": true,
            "ticks": "",
            "zerolinecolor": "white"
           }
          },
          "shapedefaults": {
           "line": {
            "color": "#2a3f5f"
           }
          },
          "ternary": {
           "aaxis": {
            "gridcolor": "white",
            "linecolor": "white",
            "ticks": ""
           },
           "baxis": {
            "gridcolor": "white",
            "linecolor": "white",
            "ticks": ""
           },
           "bgcolor": "#E5ECF6",
           "caxis": {
            "gridcolor": "white",
            "linecolor": "white",
            "ticks": ""
           }
          },
          "title": {
           "x": 0.05
          },
          "xaxis": {
           "automargin": true,
           "gridcolor": "white",
           "linecolor": "white",
           "ticks": "",
           "title": {
            "standoff": 15
           },
           "zerolinecolor": "white",
           "zerolinewidth": 2
          },
          "yaxis": {
           "automargin": true,
           "gridcolor": "white",
           "linecolor": "white",
           "ticks": "",
           "title": {
            "standoff": 15
           },
           "zerolinecolor": "white",
           "zerolinewidth": 2
          }
         }
        },
        "title": {
         "text": "Plane + Points"
        }
       }
      }
     },
     "metadata": {},
     "output_type": "display_data"
    }
   ],
   "source": [
    "visualize_plane_with_points(plane_model, inliers, outliers)"
   ]
  },
  {
   "cell_type": "markdown",
   "metadata": {},
   "source": [
    "## Переход в 2D"
   ]
  },
  {
   "cell_type": "code",
   "execution_count": 19,
   "metadata": {},
   "outputs": [
    {
     "name": "stdout",
     "output_type": "stream",
     "text": [
      "Проекция 3D shape: (36, 3)\n",
      "Проекция 2D shape: (36, 2)\n"
     ]
    }
   ],
   "source": [
    "proj3d, proj2d, basis = project_points_to_plane(inliers, plane_model)\n",
    "print(\"Проекция 3D shape:\", proj3d.shape)  # (N,3)\n",
    "print(\"Проекция 2D shape:\", proj2d.shape)  # (N,2)"
   ]
  },
  {
   "cell_type": "code",
   "execution_count": 20,
   "metadata": {},
   "outputs": [
    {
     "data": {
      "image/png": "[encoded data removed]",
      "text/plain": [
       "<Figure size 640x480 with 1 Axes>"
      ]
     },
     "metadata": {},
     "output_type": "display_data"
    }
   ],
   "source": [
    "# Нарисуем все точки в 2D координатах\n",
    "import matplotlib.pyplot as plt\n",
    "plt.scatter(proj2d[:,0], proj2d[:,1], s=2, alpha=0.5)\n",
    "plt.xlabel(\"U axis\")\n",
    "plt.ylabel(\"V axis\")\n",
    "plt.title(\"Projection of points onto plane\")\n",
    "plt.axis(\"equal\")\n",
    "plt.show()"
   ]
  },
  {
   "cell_type": "code",
   "execution_count": 21,
   "metadata": {},
   "outputs": [
    {
     "name": "stdout",
     "output_type": "stream",
     "text": [
      "Процент точек в паттерне: 100.0% 0.056731565494769355\n"
     ]
    }
   ],
   "source": [
    "matched_points, percent, L_METRIC = pattern_match(proj2d, d_a=0.01) # 10 mm допустимое отклонение от паттерна размером 150 mm \n",
    "print(f\"Процент точек в паттерне: {percent:.1f}% {L_METRIC}\")"
   ]
  },
  {
   "cell_type": "code",
   "execution_count": 22,
   "metadata": {},
   "outputs": [
    {
     "data": {
      "image/png": "[encoded data removed]",
      "text/plain": [
       "<Figure size 640x480 with 1 Axes>"
      ]
     },
     "metadata": {},
     "output_type": "display_data"
    }
   ],
   "source": [
    "# Нарисуем все точки в 2D координатах\n",
    "\n",
    "plt.scatter(matched_points[:,0], matched_points[:,1], s=2, alpha=0.5)\n",
    "plt.xlabel(\"U axis\")\n",
    "plt.ylabel(\"V axis\")\n",
    "plt.title(\"Projection of points onto plane\")\n",
    "plt.axis(\"equal\")\n",
    "plt.show()"
   ]
  },
  {
   "cell_type": "markdown",
   "metadata": {},
   "source": [
    "## Полный пайп"
   ]
  },
  {
   "cell_type": "code",
   "execution_count": null,
   "metadata": {},
   "outputs": [
    {
     "name": "stdout",
     "output_type": "stream",
     "text": [
      "(36, 4)\n",
      "=== Уникальная позиция! ===\n",
      "robot pose[x,y,thetha]=[0. 0. 0.], FIRST MARKER\n",
      "(36, 4)\n",
      "(41, 4)\n",
      "(36, 4)\n",
      "(34, 4)\n",
      "(41, 4)\n",
      "(35, 4)\n",
      "(37, 4)\n",
      "(24, 4)\n",
      "=== Уникальная позиция! ===\n",
      "robot pose[x,y,thetha]=[ 8.1624775 -7.1709533  1.6352483], distance to previous marker = 11.665541648864746\n"
     ]
    },
    {
     "data": {
      "image/png": "[encoded data removed]",
      "text/plain": [
       "<Figure size 640x480 with 1 Axes>"
      ]
     },
     "metadata": {},
     "output_type": "display_data"
    },
    {
     "name": "stdout",
     "output_type": "stream",
     "text": [
      "(39, 4)\n",
      "(35, 4)\n",
      "=== Уникальная позиция! ===\n",
      "robot pose[x,y,thetha]=[ 6.308372  -1.7361586 -2.9295352], distance to previous marker = 7.36005973815918\n"
     ]
    },
    {
     "data": {
      "image/png": "[encoded data removed]",
      "text/plain": [
       "<Figure size 640x480 with 1 Axes>"
      ]
     },
     "metadata": {},
     "output_type": "display_data"
    },
    {
     "name": "stdout",
     "output_type": "stream",
     "text": [
      "(33, 4)\n",
      "=== Уникальная позиция! ===\n",
      "robot pose[x,y,thetha]=[ 0.20043276 -0.794744   -2.9562387 ], distance to previous marker = 6.414356231689453\n"
     ]
    },
    {
     "data": {
      "image/png": "[encoded data removed]",
      "text/plain": [
       "<Figure size 640x480 with 1 Axes>"
      ]
     },
     "metadata": {},
     "output_type": "display_data"
    },
    {
     "name": "stdout",
     "output_type": "stream",
     "text": [
      "(46, 4)\n",
      "(42, 4)\n",
      "(44, 4)\n",
      "(37, 4)\n"
     ]
    }
   ],
   "source": [
    "uniques_marker_id_list = []\n",
    "# uniques_marker_robot_pose_list = []\n",
    "uniques_marker_centers = []\n",
    "\n",
    "\n",
    "inlier_points_selected = []\n",
    "metrics_selected = []\n",
    "poses_selected = []\n",
    "\n",
    "for ix, points in enumerate(clouds):\n",
    "    filtered = filter_points(points, intensity_min=60, intensity_max=205, range_min=0.2, range_max=2.0,\n",
    "                             z_min=-0.5, z_max=0.5)\n",
    "    if filtered.shape[0] < 30:\n",
    "        # print(\"Мало точек после фильтра, пропускаем\")\n",
    "        continue\n",
    "\n",
    "    labels, main_cluster, outliers = largest_cluster_outliers(filtered, eps=0.3, min_samples=20)\n",
    "    if main_cluster.shape[0] < 20:\n",
    "        # print(\"Мало точек в главном кластере, пропускаем\")\n",
    "        continue\n",
    "\n",
    "    plane_model, inliers, outliers = ransac_plane_outliers(main_cluster, distance_threshold=0.025)\n",
    "    if inliers.shape[0] < 10:\n",
    "        # print(\"Мало точек на плоскости, пропускаем\")\n",
    "        continue\n",
    "\n",
    "    proj3d, proj2d, basis = project_points_to_plane(inliers, plane_model)\n",
    "    matched_points, percent, L_METRIC  = pattern_match(proj2d, d_a=0.01)\n",
    "    # print(f\"Процент точек в паттерне: {percent:.1f}%\")\n",
    "\n",
    "    if percent > 50.0 and (L_METRIC < 0.06 and L_METRIC > 0.04):\n",
    "        # print(f\"Frame {ix} Процент точек в паттерне: {percent:.1f}% L_METRIC={L_METRIC}\")\n",
    "        print(inliers.shape)\n",
    "        inlier_points_selected.append(inliers)\n",
    "        metrics_selected.append(L_METRIC)\n",
    "        poses_selected.append(poses[ix])    \n",
    "\n",
    "        if len(uniques_marker_id_list) == 0:\n",
    "            points_A = inlier_points_selected[-1]\n",
    "            pose_A = poses_selected[-1]\n",
    "            \n",
    "            # just fill any numbers to use same function for first and rest cases \n",
    "            points_B = inlier_points_selected[-1] \n",
    "            pose_B = poses_selected[-1]\n",
    "\n",
    "            centroid_A, centroid_B, dist_xy, dist_xyz = compare_clouds_by_centroid(points_A, pose_A, points_B, pose_B)\n",
    "            uniques_marker_id_list.append(ix)\n",
    "            uniques_marker_centers.append(centroid_A)\n",
    "            print(\"=== Уникальная позиция! ===\")\n",
    "            print(f'robot pose[x,y,thetha]={pose_A}, FIRST MARKER')\n",
    "            \n",
    "        else:\n",
    "            points_A = inlier_points_selected[-2]\n",
    "            pose_A = poses_selected[-2]\n",
    "\n",
    "            points_B = inlier_points_selected[-1] \n",
    "            pose_B = poses_selected[-1]\n",
    "            centroid_A, centroid_B, dist_xy, dist_xyz = compare_clouds_by_centroid(points_A, pose_A, points_B, pose_B)\n",
    "            if dist_xy > 1.5:\n",
    "                uniques_marker_id_list.append(ix)\n",
    "                uniques_marker_centers.append(centroid_B)\n",
    "                print(\"=== Уникальная позиция! ===\")\n",
    "                print(f'robot pose[x,y,thetha]={pose_B}, distance to previous marker = {dist_xy}')\n",
    "\n",
    "                \n",
    "                plt.scatter(matched_points[:,0], matched_points[:,1], s=2, alpha=0.5)\n",
    "                plt.xlabel(\"U axis\")\n",
    "                plt.ylabel(\"V axis\")\n",
    "                plt.title(\"Projection of points onto plane\")\n",
    "                plt.axis(\"equal\")\n",
    "                plt.show()"
   ]
  },
  {
   "cell_type": "code",
   "execution_count": null,
   "metadata": {},
   "outputs": [],
   "source": []
  },
  {
   "cell_type": "code",
   "execution_count": null,
   "metadata": {},
   "outputs": [],
   "source": [
    "\n",
    "        "
   ]
  },
  {
   "cell_type": "code",
   "execution_count": null,
   "metadata": {},
   "outputs": [],
   "source": []
  },
  {
   "cell_type": "code",
   "execution_count": null,
   "metadata": {},
   "outputs": [],
   "source": []
  },
  {
   "cell_type": "code",
   "execution_count": null,
   "metadata": {},
   "outputs": [],
   "source": []
  },
  {
   "cell_type": "code",
   "execution_count": null,
   "metadata": {},
   "outputs": [],
   "source": []
  },
  {
   "cell_type": "code",
   "execution_count": null,
   "metadata": {},
   "outputs": [],
   "source": []
  },
  {
   "cell_type": "code",
   "execution_count": null,
   "metadata": {},
   "outputs": [],
   "source": []
  },
  {
   "cell_type": "code",
   "execution_count": null,
   "metadata": {},
   "outputs": [],
   "source": []
  },
  {
   "cell_type": "code",
   "execution_count": null,
   "metadata": {},
   "outputs": [],
   "source": []
  },
  {
   "cell_type": "code",
   "execution_count": null,
   "metadata": {},
   "outputs": [],
   "source": []
  },
  {
   "cell_type": "code",
   "execution_count": null,
   "metadata": {},
   "outputs": [],
   "source": []
  },
  {
   "cell_type": "code",
   "execution_count": null,
   "metadata": {},
   "outputs": [],
   "source": []
  },
  {
   "cell_type": "code",
   "execution_count": null,
   "metadata": {},
   "outputs": [],
   "source": []
  },
  {
   "cell_type": "code",
   "execution_count": null,
   "metadata": {},
   "outputs": [],
   "source": []
  },
  {
   "cell_type": "code",
   "execution_count": null,
   "metadata": {},
   "outputs": [],
   "source": []
  },
  {
   "cell_type": "code",
   "execution_count": null,
   "metadata": {},
   "outputs": [],
   "source": []
  },
  {
   "cell_type": "code",
   "execution_count": null,
   "metadata": {},
   "outputs": [],
   "source": []
  }
 ],
 "metadata": {
  "kernelspec": {
   "display_name": "ros2_open3d_env (3.12.3)",
   "language": "python",
   "name": "python3"
  },
  "language_info": {
   "codemirror_mode": {
    "name": "ipython",
    "version": 3
   },
   "file_extension": ".py",
   "mimetype": "text/x-python",
   "name": "python",
   "nbconvert_exporter": "python",
   "pygments_lexer": "ipython3",
   "version": "3.12.3"
  }
 },
 "nbformat": 4,
 "nbformat_minor": 4
}

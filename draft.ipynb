{
 "cells": [
  {
   "cell_type": "markdown",
   "metadata": {},
   "source": [
    " ## 3D data processing"
   ]
  },
  {
   "cell_type": "code",
   "execution_count": 1,
   "metadata": {},
   "outputs": [
    {
     "name": "stderr",
     "output_type": "stream",
     "text": [
      "/home/igo320341/.local/lib/python3.10/site-packages/matplotlib/projections/__init__.py:63: UserWarning: Unable to import Axes3D. This may be due to multiple versions of Matplotlib being installed (e.g. as a system package and as a pip package). As a result, the 3D projection is not available.\n",
      "  warnings.warn(\"Unable to import Axes3D. This may be due to multiple versions of \"\n"
     ]
    },
    {
     "name": "stdout",
     "output_type": "stream",
     "text": [
      "Jupyter environment detected. Enabling Open3D WebVisualizer.\n",
      "[Open3D INFO] WebRTC GUI backend enabled.\n",
      "[Open3D INFO] WebRTCWindowSystem: HTTP handshake server disabled.\n"
     ]
    },
    {
     "name": "stderr",
     "output_type": "stream",
     "text": [
      "/usr/lib/python3/dist-packages/scipy/__init__.py:146: UserWarning: A NumPy version >=1.17.3 and <1.25.0 is required for this version of SciPy (detected version 1.26.4\n",
      "  warnings.warn(f\"A NumPy version >={np_minversion} and <{np_maxversion}\"\n"
     ]
    }
   ],
   "source": [
    "import numpy as np\n",
    "import os\n",
    "import matplotlib.pyplot as plt\n",
    "import plotly.graph_objects as go\n",
    "import open3d as o3d\n",
    "\n",
    "import os\n",
    "import numpy as np\n",
    "import math\n",
    "\n",
    "from sklearn.cluster import DBSCAN"
   ]
  },
  {
   "cell_type": "code",
   "execution_count": 2,
   "metadata": {},
   "outputs": [],
   "source": [
    "# for deployment\n",
    "from star_solution.utils import filter_points,largest_cluster_outliers, ransac_plane_outliers, project_points_to_plane, pattern_match, compare_clouds_by_centroid"
   ]
  },
  {
   "cell_type": "code",
   "execution_count": 3,
   "metadata": {},
   "outputs": [],
   "source": [
    "# for dev only\n",
    "from star_solution.utils import load_all_dumps_with_pose, plot_intensity_hist, visualize_inline, visualize_cloud, visualize_plane_with_points"
   ]
  },
  {
   "cell_type": "code",
   "execution_count": 4,
   "metadata": {},
   "outputs": [
    {
     "name": "stdout",
     "output_type": "stream",
     "text": [
      "/home/igo320341/lidar_filtered_dumps/filtered_1756723346.npy: 7716 точек, pose = [-0.00406762  0.00525634 -1.5718265 ]\n",
      "/home/igo320341/lidar_filtered_dumps/filtered_1756723349.npy: 7647 точек, pose = [-0.00170868  0.0033053  -1.5716695 ]\n",
      "/home/igo320341/lidar_filtered_dumps/filtered_1756723353.npy: 7623 точек, pose = [-0.00300283  0.00237054 -1.5732889 ]\n",
      "/home/igo320341/lidar_filtered_dumps/filtered_1756723357.npy: 7607 точек, pose = [-0.00348329  0.00323009 -1.5740039 ]\n",
      "/home/igo320341/lidar_filtered_dumps/filtered_1756723360.npy: 7703 точек, pose = [ 1.0255659e-04 -1.7428097e-03 -1.5713707e+00]\n",
      "/home/igo320341/lidar_filtered_dumps/filtered_1756723364.npy: 7626 точек, pose = [-7.0993486e-04  2.0549782e-03 -1.5725439e+00]\n",
      "/home/igo320341/lidar_filtered_dumps/filtered_1756723367.npy: 7689 точек, pose = [-2.0145746e-03  8.7780895e-04 -1.5725751e+00]\n",
      "/home/igo320341/lidar_filtered_dumps/filtered_1756723371.npy: 7086 точек, pose = [-0.01032842 -0.6629219  -1.4449489 ]\n",
      "/home/igo320341/lidar_filtered_dumps/filtered_1756723374.npy: 8103 точек, pose = [ 0.23472562 -1.2257804  -0.81831765]\n",
      "/home/igo320341/lidar_filtered_dumps/filtered_1756723378.npy: 8428 точек, pose = [ 0.7518678 -1.7198704 -0.3018119]\n",
      "/home/igo320341/lidar_filtered_dumps/filtered_1756723382.npy: 8001 точек, pose = [ 1.41724    -1.864063   -0.12594266]\n",
      "/home/igo320341/lidar_filtered_dumps/filtered_1756723385.npy: 8498 точек, pose = [ 2.3302028 -1.9763794 -0.0979632]\n",
      "/home/igo320341/lidar_filtered_dumps/filtered_1756723389.npy: 8164 точек, pose = [ 3.2723503  -2.0762517  -0.07959273]\n",
      "/home/igo320341/lidar_filtered_dumps/filtered_1756723393.npy: 8337 точек, pose = [ 4.2318425 -2.1647718 -0.0644026]\n",
      "/home/igo320341/lidar_filtered_dumps/filtered_1756723396.npy: 8128 точек, pose = [ 5.1714325 -2.2813542 -0.1094377]\n",
      "/home/igo320341/lidar_filtered_dumps/filtered_1756723400.npy: 7991 точек, pose = [ 6.0958443  -2.3955712  -0.10621199]\n",
      "/home/igo320341/lidar_filtered_dumps/filtered_1756723404.npy: 8414 точек, pose = [ 7.002859   -2.5035558  -0.10520636]\n",
      "/home/igo320341/lidar_filtered_dumps/filtered_1756723407.npy: 7821 точек, pose = [ 8.115909   -2.4283955  -0.08467426]\n",
      "/home/igo320341/lidar_filtered_dumps/filtered_1756723411.npy: 7716 точек, pose = [ 8.983234   -2.6560209  -0.40712997]\n",
      "/home/igo320341/lidar_filtered_dumps/filtered_1756723415.npy: 7309 точек, pose = [ 9.8879385  -3.0700216  -0.42334592]\n",
      "/home/igo320341/lidar_filtered_dumps/filtered_1756723418.npy: 7666 точек, pose = [10.4674225 -3.7358513 -1.3186444]\n",
      "/home/igo320341/lidar_filtered_dumps/filtered_1756723422.npy: 8858 точек, pose = [10.615731  -4.577197  -1.5220972]\n",
      "/home/igo320341/lidar_filtered_dumps/filtered_1756723426.npy: 9488 точек, pose = [10.627655  -5.4345374 -1.5493768]\n",
      "/home/igo320341/lidar_filtered_dumps/filtered_1756723429.npy: 9192 точек, pose = [10.650695  -6.31813   -1.6490782]\n",
      "/home/igo320341/lidar_filtered_dumps/filtered_1756723433.npy: 8607 точек, pose = [10.519627  -7.2684007 -1.7045869]\n",
      "/home/igo320341/lidar_filtered_dumps/filtered_1756723437.npy: 7759 точек, pose = [ 9.982964  -7.935844  -2.9507406]\n",
      "/home/igo320341/lidar_filtered_dumps/filtered_1756723440.npy: 7185 точек, pose = [ 9.101271  -7.9222465  2.95837  ]\n",
      "/home/igo320341/lidar_filtered_dumps/filtered_1756723444.npy: 7359 точек, pose = [ 8.434879  -7.636958   2.3636892]\n",
      "/home/igo320341/lidar_filtered_dumps/filtered_1756723447.npy: 8417 точек, pose = [ 8.225842  -6.8379135  1.4569039]\n",
      "/home/igo320341/lidar_filtered_dumps/filtered_1756723451.npy: 9144 точек, pose = [ 8.308495  -5.9531937  1.7581601]\n",
      "/home/igo320341/lidar_filtered_dumps/filtered_1756723455.npy: 9589 точек, pose = [ 7.927828  -5.1468215  2.447634 ]\n",
      "/home/igo320341/lidar_filtered_dumps/filtered_1756723458.npy: 9102 точек, pose = [ 7.1972456 -4.638667   2.8889287]\n",
      "/home/igo320341/lidar_filtered_dumps/filtered_1756723462.npy: 9797 точек, pose = [ 6.120776  -4.48265    3.0721822]\n",
      "/home/igo320341/lidar_filtered_dumps/filtered_1756723466.npy: 9275 точек, pose = [ 5.155245  -4.4163976  3.1125853]\n",
      "/home/igo320341/lidar_filtered_dumps/filtered_1756723470.npy: 9082 точек, pose = [ 4.16831   -4.25799    2.9852397]\n",
      "/home/igo320341/lidar_filtered_dumps/filtered_1756723473.npy: 7999 точек, pose = [ 3.3090935 -4.0670114  2.9372065]\n",
      "/home/igo320341/lidar_filtered_dumps/filtered_1756723477.npy: 8037 точек, pose = [ 2.3900232 -4.121414  -2.8823195]\n",
      "/home/igo320341/lidar_filtered_dumps/filtered_1756723481.npy: 8566 точек, pose = [ 1.8277825 -4.9098954 -1.7922204]\n",
      "/home/igo320341/lidar_filtered_dumps/filtered_1756723484.npy: 8390 точек, pose = [ 1.7458014 -5.979184  -1.6530353]\n",
      "/home/igo320341/lidar_filtered_dumps/filtered_1756723488.npy: 7244 точек, pose = [ 1.9416542 -6.9046664 -0.8351763]\n",
      "/home/igo320341/lidar_filtered_dumps/filtered_1756723492.npy: 7768 точек, pose = [ 2.633086   -7.3963575  -0.20939662]\n",
      "/home/igo320341/lidar_filtered_dumps/filtered_1756723495.npy: 8398 точек, pose = [ 3.6028397  -7.4762616  -0.03834004]\n",
      "/home/igo320341/lidar_filtered_dumps/filtered_1756723499.npy: 8656 точек, pose = [ 4.6763425  -7.5254135  -0.09158105]\n",
      "/home/igo320341/lidar_filtered_dumps/filtered_1756723503.npy: 7794 точек, pose = [ 5.5803666  -7.571014   -0.09009216]\n",
      "/home/igo320341/lidar_filtered_dumps/filtered_1756723506.npy: 7806 точек, pose = [ 6.646368   -7.6895523  -0.09326816]\n",
      "/home/igo320341/lidar_filtered_dumps/filtered_1756723510.npy: 7060 точек, pose = [ 7.5120893 -7.885017  -0.6096246]\n",
      "/home/igo320341/lidar_filtered_dumps/filtered_1756723514.npy: 7903 точек, pose = [ 7.82138   -8.818563  -1.5515678]\n",
      "/home/igo320341/lidar_filtered_dumps/filtered_1756723517.npy: 8573 точек, pose = [ 7.7775793 -9.659761  -1.6492288]\n",
      "/home/igo320341/lidar_filtered_dumps/filtered_1756723521.npy: 7924 точек, pose = [  7.7536054 -10.693175   -1.5094519]\n",
      "/home/igo320341/lidar_filtered_dumps/filtered_1756723525.npy: 6933 точек, pose = [  7.5696144 -11.731601   -2.1787257]\n",
      "/home/igo320341/lidar_filtered_dumps/filtered_1756723528.npy: 7126 точек, pose = [  6.7091856 -12.087757    3.0144863]\n",
      "/home/igo320341/lidar_filtered_dumps/filtered_1756723532.npy: 8252 точек, pose = [  5.7446275 -12.004103    3.055024 ]\n",
      "/home/igo320341/lidar_filtered_dumps/filtered_1756723536.npy: 7565 точек, pose = [  4.932697  -11.964868    3.0885067]\n",
      "/home/igo320341/lidar_filtered_dumps/filtered_1756723539.npy: 7562 точек, pose = [  3.847351 -11.869889   3.04478 ]\n",
      "/home/igo320341/lidar_filtered_dumps/filtered_1756723543.npy: 7564 точек, pose = [  2.8954968 -11.75678     3.0252695]\n",
      "/home/igo320341/lidar_filtered_dumps/filtered_1756723547.npy: 7298 точек, pose = [  1.890032  -11.611251    3.0001407]\n",
      "/home/igo320341/lidar_filtered_dumps/filtered_1756723551.npy: 7387 точек, pose = [  1.3180045 -10.885794    1.8065099]\n",
      "/home/igo320341/lidar_filtered_dumps/filtered_1756723554.npy: 8468 точек, pose = [ 1.2863464 -9.968462   1.5025367]\n",
      "/home/igo320341/lidar_filtered_dumps/filtered_1756723558.npy: 8591 точек, pose = [ 1.3835027 -8.995633   1.4848058]\n",
      "/home/igo320341/lidar_filtered_dumps/filtered_1756723561.npy: 7764 точек, pose = [ 1.4924235 -8.0295725  1.5174253]\n",
      "/home/igo320341/lidar_filtered_dumps/filtered_1756723565.npy: 7372 точек, pose = [ 1.5599458 -7.27438    1.4912682]\n",
      "/home/igo320341/lidar_filtered_dumps/filtered_1756723569.npy: 8368 точек, pose = [ 1.6473597 -6.1821947  1.5464749]\n",
      "/home/igo320341/lidar_filtered_dumps/filtered_1756723572.npy: 8594 точек, pose = [ 1.6500227 -5.207976   1.5967665]\n",
      "/home/igo320341/lidar_filtered_dumps/filtered_1756723576.npy: 7386 точек, pose = [ 1.5375061 -4.3090744  1.938204 ]\n",
      "/home/igo320341/lidar_filtered_dumps/filtered_1756723580.npy: 6613 точек, pose = [ 1.1384275 -3.3198447  1.9944412]\n",
      "/home/igo320341/lidar_filtered_dumps/filtered_1756723583.npy: 7128 точек, pose = [ 0.698213  -2.500097   2.1313128]\n",
      "/home/igo320341/lidar_filtered_dumps/filtered_1756723587.npy: 8574 точек, pose = [ 0.14686197 -1.7222066   2.1135025 ]\n",
      "/home/igo320341/lidar_filtered_dumps/filtered_1756723591.npy: 7266 точек, pose = [ 0.01405711 -0.81610125  1.5035714 ]\n",
      "/home/igo320341/lidar_filtered_dumps/filtered_1756723594.npy: 7588 точек, pose = [ 0.06167999 -0.07573606  1.4366133 ]\n",
      "/home/igo320341/lidar_filtered_dumps/filtered_1756723598.npy: 7169 точек, pose = [ 0.05743549 -0.07560638  0.31263846]\n",
      "/home/igo320341/lidar_filtered_dumps/filtered_1756723602.npy: 7282 точек, pose = [ 0.05913092 -0.08374917 -1.1353531 ]\n",
      "/home/igo320341/lidar_filtered_dumps/filtered_1756723605.npy: 7265 точек, pose = [ 0.07130913 -0.08561031 -1.6452299 ]\n",
      "/home/igo320341/lidar_filtered_dumps/filtered_1756723609.npy: 7704 точек, pose = [ 0.07233845 -0.0813162  -1.6442432 ]\n"
     ]
    }
   ],
   "source": [
    "# # Загружаем все дампы\n",
    "# files, clouds = load_all_dumps()\n",
    "\n",
    "# # Смотрим список файлов\n",
    "# for i, f in enumerate(files):\n",
    "#     print(i, f, clouds[i].shape)\n",
    "\n",
    "# Загружаем все дампы\n",
    "files, clouds_and_poses = load_all_dumps_with_pose()\n",
    "\n",
    "# Смотрим список файлов\n",
    "clouds = []\n",
    "poses = []\n",
    "for fname, (cloud, pose) in zip(files, clouds_and_poses):\n",
    "    print(f\"{fname}: {cloud.shape[0]} точек, pose = {pose}\")\n",
    "    clouds.append(cloud)    \n",
    "    poses.append(pose)\n",
    "    \n",
    "\n"
   ]
  },
  {
   "cell_type": "markdown",
   "metadata": {},
   "source": [
    "## Гистограмма интенсивности"
   ]
  },
  {
   "cell_type": "code",
   "execution_count": null,
   "metadata": {},
   "outputs": [],
   "source": []
  },
  {
   "cell_type": "code",
   "execution_count": 5,
   "metadata": {},
   "outputs": [
    {
     "data": {
      "image/png": "[encoded data removed]",
      "text/plain": [
       "<Figure size 800x500 with 1 Axes>"
      ]
     },
     "metadata": {},
     "output_type": "display_data"
    }
   ],
   "source": [
    "\n",
    "i = 3\n",
    "\n",
    "points = clouds[i]\n",
    "\n",
    "# Строим гистограмму интенсивности\n",
    "plot_intensity_hist(points, bins=100, title=f\"Intensity histogram: {files[i]}\")"
   ]
  },
  {
   "cell_type": "markdown",
   "metadata": {},
   "source": [
    "## Визуализация"
   ]
  },
  {
   "cell_type": "code",
   "execution_count": 6,
   "metadata": {},
   "outputs": [
    {
     "ename": "ValueError",
     "evalue": "Unknown projection '3d'",
     "output_type": "error",
     "traceback": [
      "\u001b[0;31m---------------------------------------------------------------------------\u001b[0m",
      "\u001b[0;31mKeyError\u001b[0m                                  Traceback (most recent call last)",
      "File \u001b[0;32m~/.local/lib/python3.10/site-packages/matplotlib/projections/__init__.py:120\u001b[0m, in \u001b[0;36mget_projection_class\u001b[0;34m(projection)\u001b[0m\n\u001b[1;32m    119\u001b[0m \u001b[38;5;28;01mtry\u001b[39;00m:\n\u001b[0;32m--> 120\u001b[0m     \u001b[38;5;28;01mreturn\u001b[39;00m \u001b[43mprojection_registry\u001b[49m\u001b[38;5;241;43m.\u001b[39;49m\u001b[43mget_projection_class\u001b[49m\u001b[43m(\u001b[49m\u001b[43mprojection\u001b[49m\u001b[43m)\u001b[49m\n\u001b[1;32m    121\u001b[0m \u001b[38;5;28;01mexcept\u001b[39;00m \u001b[38;5;167;01mKeyError\u001b[39;00m \u001b[38;5;28;01mas\u001b[39;00m err:\n",
      "File \u001b[0;32m~/.local/lib/python3.10/site-packages/matplotlib/projections/__init__.py:83\u001b[0m, in \u001b[0;36mProjectionRegistry.get_projection_class\u001b[0;34m(self, name)\u001b[0m\n\u001b[1;32m     82\u001b[0m \u001b[38;5;124;03m\"\"\"Get a projection class from its *name*.\"\"\"\u001b[39;00m\n\u001b[0;32m---> 83\u001b[0m \u001b[38;5;28;01mreturn\u001b[39;00m \u001b[38;5;28;43mself\u001b[39;49m\u001b[38;5;241;43m.\u001b[39;49m\u001b[43m_all_projection_types\u001b[49m\u001b[43m[\u001b[49m\u001b[43mname\u001b[49m\u001b[43m]\u001b[49m\n",
      "\u001b[0;31mKeyError\u001b[0m: '3d'",
      "\nThe above exception was the direct cause of the following exception:\n",
      "\u001b[0;31mValueError\u001b[0m                                Traceback (most recent call last)",
      "Cell \u001b[0;32mIn[6], line 1\u001b[0m\n\u001b[0;32m----> 1\u001b[0m \u001b[43mvisualize_inline\u001b[49m\u001b[43m(\u001b[49m\u001b[43mclouds\u001b[49m\u001b[43m[\u001b[49m\u001b[43mi\u001b[49m\u001b[43m]\u001b[49m\u001b[43m,\u001b[49m\u001b[43m \u001b[49m\u001b[43mtitle\u001b[49m\u001b[38;5;241;43m=\u001b[39;49m\u001b[38;5;124;43mf\u001b[39;49m\u001b[38;5;124;43m\"\u001b[39;49m\u001b[38;5;124;43mDump \u001b[39;49m\u001b[38;5;132;43;01m{\u001b[39;49;00m\u001b[43mi\u001b[49m\u001b[38;5;132;43;01m}\u001b[39;49;00m\u001b[38;5;124;43m: \u001b[39;49m\u001b[38;5;132;43;01m{\u001b[39;49;00m\u001b[43mfiles\u001b[49m\u001b[43m[\u001b[49m\u001b[43mi\u001b[49m\u001b[43m]\u001b[49m\u001b[38;5;132;43;01m}\u001b[39;49;00m\u001b[38;5;124;43m\"\u001b[39;49m\u001b[43m)\u001b[49m\n",
      "File \u001b[0;32m~/Desktop/starline_ws/src/star_solution/star_solution/utils.py:114\u001b[0m, in \u001b[0;36mvisualize_inline\u001b[0;34m(points_np, sample, title)\u001b[0m\n\u001b[1;32m    111\u001b[0m x, y, z, intensity \u001b[38;5;241m=\u001b[39m pts\u001b[38;5;241m.\u001b[39mT\n\u001b[1;32m    113\u001b[0m fig \u001b[38;5;241m=\u001b[39m plt\u001b[38;5;241m.\u001b[39mfigure(figsize\u001b[38;5;241m=\u001b[39m(\u001b[38;5;241m8\u001b[39m, \u001b[38;5;241m6\u001b[39m))\n\u001b[0;32m--> 114\u001b[0m ax \u001b[38;5;241m=\u001b[39m \u001b[43mfig\u001b[49m\u001b[38;5;241;43m.\u001b[39;49m\u001b[43madd_subplot\u001b[49m\u001b[43m(\u001b[49m\u001b[38;5;241;43m111\u001b[39;49m\u001b[43m,\u001b[49m\u001b[43m \u001b[49m\u001b[43mprojection\u001b[49m\u001b[38;5;241;43m=\u001b[39;49m\u001b[38;5;124;43m\"\u001b[39;49m\u001b[38;5;124;43m3d\u001b[39;49m\u001b[38;5;124;43m\"\u001b[39;49m\u001b[43m)\u001b[49m\n\u001b[1;32m    115\u001b[0m sc \u001b[38;5;241m=\u001b[39m ax\u001b[38;5;241m.\u001b[39mscatter(x, y, z, c\u001b[38;5;241m=\u001b[39mintensity, cmap\u001b[38;5;241m=\u001b[39m\u001b[38;5;124m\"\u001b[39m\u001b[38;5;124mviridis\u001b[39m\u001b[38;5;124m\"\u001b[39m, s\u001b[38;5;241m=\u001b[39m\u001b[38;5;241m2\u001b[39m)\n\u001b[1;32m    116\u001b[0m fig\u001b[38;5;241m.\u001b[39mcolorbar(sc, ax\u001b[38;5;241m=\u001b[39max, label\u001b[38;5;241m=\u001b[39m\u001b[38;5;124m\"\u001b[39m\u001b[38;5;124mIntensity\u001b[39m\u001b[38;5;124m\"\u001b[39m)\n",
      "File \u001b[0;32m~/.local/lib/python3.10/site-packages/matplotlib/figure.py:767\u001b[0m, in \u001b[0;36mFigureBase.add_subplot\u001b[0;34m(self, *args, **kwargs)\u001b[0m\n\u001b[1;32m    764\u001b[0m \u001b[38;5;28;01mif\u001b[39;00m (\u001b[38;5;28mlen\u001b[39m(args) \u001b[38;5;241m==\u001b[39m \u001b[38;5;241m1\u001b[39m \u001b[38;5;129;01mand\u001b[39;00m \u001b[38;5;28misinstance\u001b[39m(args[\u001b[38;5;241m0\u001b[39m], Integral)\n\u001b[1;32m    765\u001b[0m         \u001b[38;5;129;01mand\u001b[39;00m \u001b[38;5;241m100\u001b[39m \u001b[38;5;241m<\u001b[39m\u001b[38;5;241m=\u001b[39m args[\u001b[38;5;241m0\u001b[39m] \u001b[38;5;241m<\u001b[39m\u001b[38;5;241m=\u001b[39m \u001b[38;5;241m999\u001b[39m):\n\u001b[1;32m    766\u001b[0m     args \u001b[38;5;241m=\u001b[39m \u001b[38;5;28mtuple\u001b[39m(\u001b[38;5;28mmap\u001b[39m(\u001b[38;5;28mint\u001b[39m, \u001b[38;5;28mstr\u001b[39m(args[\u001b[38;5;241m0\u001b[39m])))\n\u001b[0;32m--> 767\u001b[0m projection_class, pkw \u001b[38;5;241m=\u001b[39m \u001b[38;5;28;43mself\u001b[39;49m\u001b[38;5;241;43m.\u001b[39;49m\u001b[43m_process_projection_requirements\u001b[49m\u001b[43m(\u001b[49m\u001b[38;5;241;43m*\u001b[39;49m\u001b[38;5;241;43m*\u001b[39;49m\u001b[43mkwargs\u001b[49m\u001b[43m)\u001b[49m\n\u001b[1;32m    768\u001b[0m ax \u001b[38;5;241m=\u001b[39m projection_class(\u001b[38;5;28mself\u001b[39m, \u001b[38;5;241m*\u001b[39margs, \u001b[38;5;241m*\u001b[39m\u001b[38;5;241m*\u001b[39mpkw)\n\u001b[1;32m    769\u001b[0m key \u001b[38;5;241m=\u001b[39m (projection_class, pkw)\n",
      "File \u001b[0;32m~/.local/lib/python3.10/site-packages/matplotlib/figure.py:1779\u001b[0m, in \u001b[0;36mFigureBase._process_projection_requirements\u001b[0;34m(self, axes_class, polar, projection, **kwargs)\u001b[0m\n\u001b[1;32m   1776\u001b[0m     projection \u001b[38;5;241m=\u001b[39m \u001b[38;5;124m'\u001b[39m\u001b[38;5;124mpolar\u001b[39m\u001b[38;5;124m'\u001b[39m\n\u001b[1;32m   1778\u001b[0m \u001b[38;5;28;01mif\u001b[39;00m \u001b[38;5;28misinstance\u001b[39m(projection, \u001b[38;5;28mstr\u001b[39m) \u001b[38;5;129;01mor\u001b[39;00m projection \u001b[38;5;129;01mis\u001b[39;00m \u001b[38;5;28;01mNone\u001b[39;00m:\n\u001b[0;32m-> 1779\u001b[0m     projection_class \u001b[38;5;241m=\u001b[39m \u001b[43mprojections\u001b[49m\u001b[38;5;241;43m.\u001b[39;49m\u001b[43mget_projection_class\u001b[49m\u001b[43m(\u001b[49m\u001b[43mprojection\u001b[49m\u001b[43m)\u001b[49m\n\u001b[1;32m   1780\u001b[0m \u001b[38;5;28;01melif\u001b[39;00m \u001b[38;5;28mhasattr\u001b[39m(projection, \u001b[38;5;124m'\u001b[39m\u001b[38;5;124m_as_mpl_axes\u001b[39m\u001b[38;5;124m'\u001b[39m):\n\u001b[1;32m   1781\u001b[0m     projection_class, extra_kwargs \u001b[38;5;241m=\u001b[39m projection\u001b[38;5;241m.\u001b[39m_as_mpl_axes()\n",
      "File \u001b[0;32m~/.local/lib/python3.10/site-packages/matplotlib/projections/__init__.py:122\u001b[0m, in \u001b[0;36mget_projection_class\u001b[0;34m(projection)\u001b[0m\n\u001b[1;32m    120\u001b[0m     \u001b[38;5;28;01mreturn\u001b[39;00m projection_registry\u001b[38;5;241m.\u001b[39mget_projection_class(projection)\n\u001b[1;32m    121\u001b[0m \u001b[38;5;28;01mexcept\u001b[39;00m \u001b[38;5;167;01mKeyError\u001b[39;00m \u001b[38;5;28;01mas\u001b[39;00m err:\n\u001b[0;32m--> 122\u001b[0m     \u001b[38;5;28;01mraise\u001b[39;00m \u001b[38;5;167;01mValueError\u001b[39;00m(\u001b[38;5;124m\"\u001b[39m\u001b[38;5;124mUnknown projection \u001b[39m\u001b[38;5;132;01m%r\u001b[39;00m\u001b[38;5;124m\"\u001b[39m \u001b[38;5;241m%\u001b[39m projection) \u001b[38;5;28;01mfrom\u001b[39;00m \u001b[38;5;21;01merr\u001b[39;00m\n",
      "\u001b[0;31mValueError\u001b[0m: Unknown projection '3d'"
     ]
    },
    {
     "data": {
      "text/plain": [
       "<Figure size 800x600 with 0 Axes>"
      ]
     },
     "metadata": {},
     "output_type": "display_data"
    }
   ],
   "source": [
    "\n",
    "visualize_inline(clouds[i], title=f\"Dump {i}: {files[i]}\")"
   ]
  },
  {
   "cell_type": "markdown",
   "metadata": {},
   "source": [
    "# Фильрация по инетсивности"
   ]
  },
  {
   "cell_type": "code",
   "execution_count": 7,
   "metadata": {},
   "outputs": [
    {
     "name": "stdout",
     "output_type": "stream",
     "text": [
      "Исходных точек: 7607, после фильтра: 31\n"
     ]
    }
   ],
   "source": [
    "filtered = filter_points(points,\n",
    "                         intensity_min=60, intensity_max=205,\n",
    "                         range_min=0.2, range_max=2.0,\n",
    "                         z_min=-0.5, z_max=0.5)\n",
    "\n",
    "print(f\"Исходных точек: {points.shape[0]}, после фильтра: {filtered.shape[0]}\")"
   ]
  },
  {
   "cell_type": "code",
   "execution_count": 8,
   "metadata": {},
   "outputs": [
    {
     "data": {
      "image/png": "[encoded data removed]",
      "text/plain": [
       "<Figure size 800x500 with 1 Axes>"
      ]
     },
     "metadata": {},
     "output_type": "display_data"
    }
   ],
   "source": [
    "plot_intensity_hist(filtered, bins=100, title=f\"Intensity histogram: {files[i]}\")"
   ]
  },
  {
   "cell_type": "code",
   "execution_count": 9,
   "metadata": {},
   "outputs": [
    {
     "data": {
      "application/vnd.plotly.v1+json": {
       "config": {
        "plotlyServerURL": "https://plot.ly"
       },
       "data": [
        {
         "marker": {
          "color": {
           "bdata": "AAAWQwAAdEIAABhDAABwQgAAFkMAABZDAADWQgAArkIAABZDAAAWQwAA+EIAABZDAADEQgAAHkMAABhDAAAWQwAAG0MAABZDAAAaQwAAF0MAABZDAAB0QgAArEIAABdDAAAbQwAAFkMAABxDAAAWQwAAG0MAABlDAAAYQw==",
           "dtype": "f4"
          },
          "colorscale": [
           [
            0,
            "#440154"
           ],
           [
            0.1111111111111111,
            "#482878"
           ],
           [
            0.2222222222222222,
            "#3e4989"
           ],
           [
            0.3333333333333333,
            "#31688e"
           ],
           [
            0.4444444444444444,
            "#26828e"
           ],
           [
            0.5555555555555556,
            "#1f9e89"
           ],
           [
            0.6666666666666666,
            "#35b779"
           ],
           [
            0.7777777777777778,
            "#6ece58"
           ],
           [
            0.8888888888888888,
            "#b5de2b"
           ],
           [
            1,
            "#fde725"
           ]
          ],
          "opacity": 0.8,
          "size": 2
         },
         "mode": "markers",
         "type": "scatter3d",
         "x": {
          "bdata": "rBwaPzeJQb5oka2+2c4XPxBYGT8j2xk/EFgZP/7UGD8j2xk//tQYP+xRGD8j2xk/7FEYPyPbGT8QWBk/SOEaP5qZGT8QWBk//tQYP5qZGT81Xho/kxgEv1CNFz/+1Bg/mpkZP4cWGT81Xho//tQYP6wcGj91kxg/EFgZPw==",
          "dtype": "f4"
         },
         "y": {
          "bdata": "c2gxv7gexT93vh89VONFv8l2Pr+BlUO/YOUwv30/Nb++nzq/ObQov0SLLL8OLTK/j8I1v9NNIr9U4yW/g8AqvwRWLr9I4Rq/tvMdv9ejML9euim/JQbBP4GVQ7/P9zO/zcwsv/T9NL8EVi6/WDk0v2iRLb9YOTS/RIssvw==",
          "dtype": "f4"
         },
         "z": {
          "bdata": "0SJbPuOlmz5U46U9BoEVPphuEj5GtvM9L90kPt9PDT4fhes9nMQgPkw3CT74U+M9xSCwPS2yHT7dJAY+Gy/dPef7qT2amRk+SgwCPrgehT0lBoE9hxZZPYPAyj3wp8Y9ppvEPVyPwj0Sg8A9WDm0PcUgsD3n+6k9CtejPQ==",
          "dtype": "f4"
         }
        }
       ],
       "layout": {
        "margin": {
         "b": 0,
         "l": 0,
         "r": 0,
         "t": 30
        },
        "scene": {
         "aspectmode": "manual",
         "aspectratio": {
          "x": 1,
          "y": 1,
          "z": 1
         },
         "xaxis": {
          "range": [
           -1.1119999587535858,
           1.2010000050067902
          ],
          "title": {
           "text": "X [m]"
          }
         },
         "yaxis": {
          "range": [
           -0.7730000019073486,
           1.5399999618530273
          ],
          "title": {
           "text": "Y [m]"
          }
         },
         "zaxis": {
          "range": [
           -0.9779999852180481,
           1.3349999785423279
          ],
          "title": {
           "text": "Z [m]"
          }
         }
        },
        "template": {
         "data": {
          "bar": [
           {
            "error_x": {
             "color": "#2a3f5f"
            },
            "error_y": {
             "color": "#2a3f5f"
            },
            "marker": {
             "line": {
              "color": "#E5ECF6",
              "width": 0.5
             },
             "pattern": {
              "fillmode": "overlay",
              "size": 10,
              "solidity": 0.2
             }
            },
            "type": "bar"
           }
          ],
          "barpolar": [
           {
            "marker": {
             "line": {
              "color": "#E5ECF6",
              "width": 0.5
             },
             "pattern": {
              "fillmode": "overlay",
              "size": 10,
              "solidity": 0.2
             }
            },
            "type": "barpolar"
           }
          ],
          "carpet": [
           {
            "aaxis": {
             "endlinecolor": "#2a3f5f",
             "gridcolor": "white",
             "linecolor": "white",
             "minorgridcolor": "white",
             "startlinecolor": "#2a3f5f"
            },
            "baxis": {
             "endlinecolor": "#2a3f5f",
             "gridcolor": "white",
             "linecolor": "white",
             "minorgridcolor": "white",
             "startlinecolor": "#2a3f5f"
            },
            "type": "carpet"
           }
          ],
          "choropleth": [
           {
            "colorbar": {
             "outlinewidth": 0,
             "ticks": ""
            },
            "type": "choropleth"
           }
          ],
          "contour": [
           {
            "colorbar": {
             "outlinewidth": 0,
             "ticks": ""
            },
            "colorscale": [
             [
              0,
              "#0d0887"
             ],
             [
              0.1111111111111111,
              "#46039f"
             ],
             [
              0.2222222222222222,
              "#7201a8"
             ],
             [
              0.3333333333333333,
              "#9c179e"
             ],
             [
              0.4444444444444444,
              "#bd3786"
             ],
             [
              0.5555555555555556,
              "#d8576b"
             ],
             [
              0.6666666666666666,
              "#ed7953"
             ],
             [
              0.7777777777777778,
              "#fb9f3a"
             ],
             [
              0.8888888888888888,
              "#fdca26"
             ],
             [
              1,
              "#f0f921"
             ]
            ],
            "type": "contour"
           }
          ],
          "contourcarpet": [
           {
            "colorbar": {
             "outlinewidth": 0,
             "ticks": ""
            },
            "type": "contourcarpet"
           }
          ],
          "heatmap": [
           {
            "colorbar": {
             "outlinewidth": 0,
             "ticks": ""
            },
            "colorscale": [
             [
              0,
              "#0d0887"
             ],
             [
              0.1111111111111111,
              "#46039f"
             ],
             [
              0.2222222222222222,
              "#7201a8"
             ],
             [
              0.3333333333333333,
              "#9c179e"
             ],
             [
              0.4444444444444444,
              "#bd3786"
             ],
             [
              0.5555555555555556,
              "#d8576b"
             ],
             [
              0.6666666666666666,
              "#ed7953"
             ],
             [
              0.7777777777777778,
              "#fb9f3a"
             ],
             [
              0.8888888888888888,
              "#fdca26"
             ],
             [
              1,
              "#f0f921"
             ]
            ],
            "type": "heatmap"
           }
          ],
          "histogram": [
           {
            "marker": {
             "pattern": {
              "fillmode": "overlay",
              "size": 10,
              "solidity": 0.2
             }
            },
            "type": "histogram"
           }
          ],
          "histogram2d": [
           {
            "colorbar": {
             "outlinewidth": 0,
             "ticks": ""
            },
            "colorscale": [
             [
              0,
              "#0d0887"
             ],
             [
              0.1111111111111111,
              "#46039f"
             ],
             [
              0.2222222222222222,
              "#7201a8"
             ],
             [
              0.3333333333333333,
              "#9c179e"
             ],
             [
              0.4444444444444444,
              "#bd3786"
             ],
             [
              0.5555555555555556,
              "#d8576b"
             ],
             [
              0.6666666666666666,
              "#ed7953"
             ],
             [
              0.7777777777777778,
              "#fb9f3a"
             ],
             [
              0.8888888888888888,
              "#fdca26"
             ],
             [
              1,
              "#f0f921"
             ]
            ],
            "type": "histogram2d"
           }
          ],
          "histogram2dcontour": [
           {
            "colorbar": {
             "outlinewidth": 0,
             "ticks": ""
            },
            "colorscale": [
             [
              0,
              "#0d0887"
             ],
             [
              0.1111111111111111,
              "#46039f"
             ],
             [
              0.2222222222222222,
              "#7201a8"
             ],
             [
              0.3333333333333333,
              "#9c179e"
             ],
             [
              0.4444444444444444,
              "#bd3786"
             ],
             [
              0.5555555555555556,
              "#d8576b"
             ],
             [
              0.6666666666666666,
              "#ed7953"
             ],
             [
              0.7777777777777778,
              "#fb9f3a"
             ],
             [
              0.8888888888888888,
              "#fdca26"
             ],
             [
              1,
              "#f0f921"
             ]
            ],
            "type": "histogram2dcontour"
           }
          ],
          "mesh3d": [
           {
            "colorbar": {
             "outlinewidth": 0,
             "ticks": ""
            },
            "type": "mesh3d"
           }
          ],
          "parcoords": [
           {
            "line": {
             "colorbar": {
              "outlinewidth": 0,
              "ticks": ""
             }
            },
            "type": "parcoords"
           }
          ],
          "pie": [
           {
            "automargin": true,
            "type": "pie"
           }
          ],
          "scatter": [
           {
            "fillpattern": {
             "fillmode": "overlay",
             "size": 10,
             "solidity": 0.2
            },
            "type": "scatter"
           }
          ],
          "scatter3d": [
           {
            "line": {
             "colorbar": {
              "outlinewidth": 0,
              "ticks": ""
             }
            },
            "marker": {
             "colorbar": {
              "outlinewidth": 0,
              "ticks": ""
             }
            },
            "type": "scatter3d"
           }
          ],
          "scattercarpet": [
           {
            "marker": {
             "colorbar": {
              "outlinewidth": 0,
              "ticks": ""
             }
            },
            "type": "scattercarpet"
           }
          ],
          "scattergeo": [
           {
            "marker": {
             "colorbar": {
              "outlinewidth": 0,
              "ticks": ""
             }
            },
            "type": "scattergeo"
           }
          ],
          "scattergl": [
           {
            "marker": {
             "colorbar": {
              "outlinewidth": 0,
              "ticks": ""
             }
            },
            "type": "scattergl"
           }
          ],
          "scattermap": [
           {
            "marker": {
             "colorbar": {
              "outlinewidth": 0,
              "ticks": ""
             }
            },
            "type": "scattermap"
           }
          ],
          "scattermapbox": [
           {
            "marker": {
             "colorbar": {
              "outlinewidth": 0,
              "ticks": ""
             }
            },
            "type": "scattermapbox"
           }
          ],
          "scatterpolar": [
           {
            "marker": {
             "colorbar": {
              "outlinewidth": 0,
              "ticks": ""
             }
            },
            "type": "scatterpolar"
           }
          ],
          "scatterpolargl": [
           {
            "marker": {
             "colorbar": {
              "outlinewidth": 0,
              "ticks": ""
             }
            },
            "type": "scatterpolargl"
           }
          ],
          "scatterternary": [
           {
            "marker": {
             "colorbar": {
              "outlinewidth": 0,
              "ticks": ""
             }
            },
            "type": "scatterternary"
           }
          ],
          "surface": [
           {
            "colorbar": {
             "outlinewidth": 0,
             "ticks": ""
            },
            "colorscale": [
             [
              0,
              "#0d0887"
             ],
             [
              0.1111111111111111,
              "#46039f"
             ],
             [
              0.2222222222222222,
              "#7201a8"
             ],
             [
              0.3333333333333333,
              "#9c179e"
             ],
             [
              0.4444444444444444,
              "#bd3786"
             ],
             [
              0.5555555555555556,
              "#d8576b"
             ],
             [
              0.6666666666666666,
              "#ed7953"
             ],
             [
              0.7777777777777778,
              "#fb9f3a"
             ],
             [
              0.8888888888888888,
              "#fdca26"
             ],
             [
              1,
              "#f0f921"
             ]
            ],
            "type": "surface"
           }
          ],
          "table": [
           {
            "cells": {
             "fill": {
              "color": "#EBF0F8"
             },
             "line": {
              "color": "white"
             }
            },
            "header": {
             "fill": {
              "color": "#C8D4E3"
             },
             "line": {
              "color": "white"
             }
            },
            "type": "table"
           }
          ]
         },
         "layout": {
          "annotationdefaults": {
           "arrowcolor": "#2a3f5f",
           "arrowhead": 0,
           "arrowwidth": 1
          },
          "autotypenumbers": "strict",
          "coloraxis": {
           "colorbar": {
            "outlinewidth": 0,
            "ticks": ""
           }
          },
          "colorscale": {
           "diverging": [
            [
             0,
             "#8e0152"
            ],
            [
             0.1,
             "#c51b7d"
            ],
            [
             0.2,
             "#de77ae"
            ],
            [
             0.3,
             "#f1b6da"
            ],
            [
             0.4,
             "#fde0ef"
            ],
            [
             0.5,
             "#f7f7f7"
            ],
            [
             0.6,
             "#e6f5d0"
            ],
            [
             0.7,
             "#b8e186"
            ],
            [
             0.8,
             "#7fbc41"
            ],
            [
             0.9,
             "#4d9221"
            ],
            [
             1,
             "#276419"
            ]
           ],
           "sequential": [
            [
             0,
             "#0d0887"
            ],
            [
             0.1111111111111111,
             "#46039f"
            ],
            [
             0.2222222222222222,
             "#7201a8"
            ],
            [
             0.3333333333333333,
             "#9c179e"
            ],
            [
             0.4444444444444444,
             "#bd3786"
            ],
            [
             0.5555555555555556,
             "#d8576b"
            ],
            [
             0.6666666666666666,
             "#ed7953"
            ],
            [
             0.7777777777777778,
             "#fb9f3a"
            ],
            [
             0.8888888888888888,
             "#fdca26"
            ],
            [
             1,
             "#f0f921"
            ]
           ],
           "sequentialminus": [
            [
             0,
             "#0d0887"
            ],
            [
             0.1111111111111111,
             "#46039f"
            ],
            [
             0.2222222222222222,
             "#7201a8"
            ],
            [
             0.3333333333333333,
             "#9c179e"
            ],
            [
             0.4444444444444444,
             "#bd3786"
            ],
            [
             0.5555555555555556,
             "#d8576b"
            ],
            [
             0.6666666666666666,
             "#ed7953"
            ],
            [
             0.7777777777777778,
             "#fb9f3a"
            ],
            [
             0.8888888888888888,
             "#fdca26"
            ],
            [
             1,
             "#f0f921"
            ]
           ]
          },
          "colorway": [
           "#636efa",
           "#EF553B",
           "#00cc96",
           "#ab63fa",
           "#FFA15A",
           "#19d3f3",
           "#FF6692",
           "#B6E880",
           "#FF97FF",
           "#FECB52"
          ],
          "font": {
           "color": "#2a3f5f"
          },
          "geo": {
           "bgcolor": "white",
           "lakecolor": "white",
           "landcolor": "#E5ECF6",
           "showlakes": true,
           "showland": true,
           "subunitcolor": "white"
          },
          "hoverlabel": {
           "align": "left"
          },
          "hovermode": "closest",
          "mapbox": {
           "style": "light"
          },
          "paper_bgcolor": "white",
          "plot_bgcolor": "#E5ECF6",
          "polar": {
           "angularaxis": {
            "gridcolor": "white",
            "linecolor": "white",
            "ticks": ""
           },
           "bgcolor": "#E5ECF6",
           "radialaxis": {
            "gridcolor": "white",
            "linecolor": "white",
            "ticks": ""
           }
          },
          "scene": {
           "xaxis": {
            "backgroundcolor": "#E5ECF6",
            "gridcolor": "white",
            "gridwidth": 2,
            "linecolor": "white",
            "showbackground": true,
            "ticks": "",
            "zerolinecolor": "white"
           },
           "yaxis": {
            "backgroundcolor": "#E5ECF6",
            "gridcolor": "white",
            "gridwidth": 2,
            "linecolor": "white",
            "showbackground": true,
            "ticks": "",
            "zerolinecolor": "white"
           },
           "zaxis": {
            "backgroundcolor": "#E5ECF6",
            "gridcolor": "white",
            "gridwidth": 2,
            "linecolor": "white",
            "showbackground": true,
            "ticks": "",
            "zerolinecolor": "white"
           }
          },
          "shapedefaults": {
           "line": {
            "color": "#2a3f5f"
           }
          },
          "ternary": {
           "aaxis": {
            "gridcolor": "white",
            "linecolor": "white",
            "ticks": ""
           },
           "baxis": {
            "gridcolor": "white",
            "linecolor": "white",
            "ticks": ""
           },
           "bgcolor": "#E5ECF6",
           "caxis": {
            "gridcolor": "white",
            "linecolor": "white",
            "ticks": ""
           }
          },
          "title": {
           "x": 0.05
          },
          "xaxis": {
           "automargin": true,
           "gridcolor": "white",
           "linecolor": "white",
           "ticks": "",
           "title": {
            "standoff": 15
           },
           "zerolinecolor": "white",
           "zerolinewidth": 2
          },
          "yaxis": {
           "automargin": true,
           "gridcolor": "white",
           "linecolor": "white",
           "ticks": "",
           "title": {
            "standoff": 15
           },
           "zerolinecolor": "white",
           "zerolinewidth": 2
          }
         }
        },
        "title": {
         "text": "filtered"
        }
       }
      }
     },
     "metadata": {},
     "output_type": "display_data"
    }
   ],
   "source": [
    "visualize_cloud(filtered, title=\"filtered\")"
   ]
  },
  {
   "cell_type": "markdown",
   "metadata": {},
   "source": [
    "## Кластеризация"
   ]
  },
  {
   "cell_type": "code",
   "execution_count": 10,
   "metadata": {},
   "outputs": [
    {
     "name": "stdout",
     "output_type": "stream",
     "text": [
      "Главный кластер: 28 точек\n",
      "Выбросы: 3 точек\n"
     ]
    },
    {
     "data": {
      "application/vnd.plotly.v1+json": {
       "config": {
        "plotlyServerURL": "https://plot.ly"
       },
       "data": [
        {
         "marker": {
          "color": {
           "bdata": "AAAWQwAAcEIAABZDAAAWQwAA1kIAAK5CAAAWQwAAFkMAAPhCAAAWQwAAxEIAAB5DAAAYQwAAFkMAABtDAAAWQwAAGkMAABdDAAAWQwAArEIAABdDAAAbQwAAFkMAABxDAAAWQwAAG0MAABlDAAAYQw==",
           "dtype": "f4"
          },
          "colorscale": [
           [
            0,
            "#440154"
           ],
           [
            0.1111111111111111,
            "#482878"
           ],
           [
            0.2222222222222222,
            "#3e4989"
           ],
           [
            0.3333333333333333,
            "#31688e"
           ],
           [
            0.4444444444444444,
            "#26828e"
           ],
           [
            0.5555555555555556,
            "#1f9e89"
           ],
           [
            0.6666666666666666,
            "#35b779"
           ],
           [
            0.7777777777777778,
            "#6ece58"
           ],
           [
            0.8888888888888888,
            "#b5de2b"
           ],
           [
            1,
            "#fde725"
           ]
          ],
          "opacity": 0.8,
          "size": 2
         },
         "mode": "markers",
         "type": "scatter3d",
         "x": {
          "bdata": "rBwaP9nOFz8QWBk/I9sZPxBYGT/+1Bg/I9sZP/7UGD/sURg/I9sZP+xRGD8j2xk/EFgZP0jhGj+amRk/EFgZP/7UGD+amRk/NV4aP1CNFz/+1Bg/mpkZP4cWGT81Xho//tQYP6wcGj91kxg/EFgZPw==",
          "dtype": "f4"
         },
         "y": {
          "bdata": "c2gxv1TjRb/Jdj6/gZVDv2DlML99PzW/vp86vzm0KL9Eiyy/Di0yv4/CNb/TTSK/VOMlv4PAKr8EVi6/SOEav7bzHb/XozC/Xropv4GVQ7/P9zO/zcwsv/T9NL8EVi6/WDk0v2iRLb9YOTS/RIssvw==",
          "dtype": "f4"
         },
         "z": {
          "bdata": "0SJbPgaBFT6YbhI+RrbzPS/dJD7fTw0+H4XrPZzEID5MNwk++FPjPcUgsD0tsh0+3SQGPhsv3T3n+6k9mpkZPkoMAj64HoU9JQaBPYPAyj3wp8Y9ppvEPVyPwj0Sg8A9WDm0PcUgsD3n+6k9CtejPQ==",
          "dtype": "f4"
         }
        }
       ],
       "layout": {
        "margin": {
         "b": 0,
         "l": 0,
         "r": 0,
         "t": 30
        },
        "scene": {
         "aspectmode": "manual",
         "aspectratio": {
          "x": 1,
          "y": 1,
          "z": 1
         },
         "xaxis": {
          "range": [
           0.5145000219345093,
           0.6825000047683716
          ],
          "title": {
           "text": "X [m]"
          }
         },
         "yaxis": {
          "range": [
           -0.7730000019073486,
           -0.6050000190734863
          ],
          "title": {
           "text": "Y [m]"
          }
         },
         "zaxis": {
          "range": [
           0.05450001358985901,
           0.2224999964237213
          ],
          "title": {
           "text": "Z [m]"
          }
         }
        },
        "template": {
         "data": {
          "bar": [
           {
            "error_x": {
             "color": "#2a3f5f"
            },
            "error_y": {
             "color": "#2a3f5f"
            },
            "marker": {
             "line": {
              "color": "#E5ECF6",
              "width": 0.5
             },
             "pattern": {
              "fillmode": "overlay",
              "size": 10,
              "solidity": 0.2
             }
            },
            "type": "bar"
           }
          ],
          "barpolar": [
           {
            "marker": {
             "line": {
              "color": "#E5ECF6",
              "width": 0.5
             },
             "pattern": {
              "fillmode": "overlay",
              "size": 10,
              "solidity": 0.2
             }
            },
            "type": "barpolar"
           }
          ],
          "carpet": [
           {
            "aaxis": {
             "endlinecolor": "#2a3f5f",
             "gridcolor": "white",
             "linecolor": "white",
             "minorgridcolor": "white",
             "startlinecolor": "#2a3f5f"
            },
            "baxis": {
             "endlinecolor": "#2a3f5f",
             "gridcolor": "white",
             "linecolor": "white",
             "minorgridcolor": "white",
             "startlinecolor": "#2a3f5f"
            },
            "type": "carpet"
           }
          ],
          "choropleth": [
           {
            "colorbar": {
             "outlinewidth": 0,
             "ticks": ""
            },
            "type": "choropleth"
           }
          ],
          "contour": [
           {
            "colorbar": {
             "outlinewidth": 0,
             "ticks": ""
            },
            "colorscale": [
             [
              0,
              "#0d0887"
             ],
             [
              0.1111111111111111,
              "#46039f"
             ],
             [
              0.2222222222222222,
              "#7201a8"
             ],
             [
              0.3333333333333333,
              "#9c179e"
             ],
             [
              0.4444444444444444,
              "#bd3786"
             ],
             [
              0.5555555555555556,
              "#d8576b"
             ],
             [
              0.6666666666666666,
              "#ed7953"
             ],
             [
              0.7777777777777778,
              "#fb9f3a"
             ],
             [
              0.8888888888888888,
              "#fdca26"
             ],
             [
              1,
              "#f0f921"
             ]
            ],
            "type": "contour"
           }
          ],
          "contourcarpet": [
           {
            "colorbar": {
             "outlinewidth": 0,
             "ticks": ""
            },
            "type": "contourcarpet"
           }
          ],
          "heatmap": [
           {
            "colorbar": {
             "outlinewidth": 0,
             "ticks": ""
            },
            "colorscale": [
             [
              0,
              "#0d0887"
             ],
             [
              0.1111111111111111,
              "#46039f"
             ],
             [
              0.2222222222222222,
              "#7201a8"
             ],
             [
              0.3333333333333333,
              "#9c179e"
             ],
             [
              0.4444444444444444,
              "#bd3786"
             ],
             [
              0.5555555555555556,
              "#d8576b"
             ],
             [
              0.6666666666666666,
              "#ed7953"
             ],
             [
              0.7777777777777778,
              "#fb9f3a"
             ],
             [
              0.8888888888888888,
              "#fdca26"
             ],
             [
              1,
              "#f0f921"
             ]
            ],
            "type": "heatmap"
           }
          ],
          "histogram": [
           {
            "marker": {
             "pattern": {
              "fillmode": "overlay",
              "size": 10,
              "solidity": 0.2
             }
            },
            "type": "histogram"
           }
          ],
          "histogram2d": [
           {
            "colorbar": {
             "outlinewidth": 0,
             "ticks": ""
            },
            "colorscale": [
             [
              0,
              "#0d0887"
             ],
             [
              0.1111111111111111,
              "#46039f"
             ],
             [
              0.2222222222222222,
              "#7201a8"
             ],
             [
              0.3333333333333333,
              "#9c179e"
             ],
             [
              0.4444444444444444,
              "#bd3786"
             ],
             [
              0.5555555555555556,
              "#d8576b"
             ],
             [
              0.6666666666666666,
              "#ed7953"
             ],
             [
              0.7777777777777778,
              "#fb9f3a"
             ],
             [
              0.8888888888888888,
              "#fdca26"
             ],
             [
              1,
              "#f0f921"
             ]
            ],
            "type": "histogram2d"
           }
          ],
          "histogram2dcontour": [
           {
            "colorbar": {
             "outlinewidth": 0,
             "ticks": ""
            },
            "colorscale": [
             [
              0,
              "#0d0887"
             ],
             [
              0.1111111111111111,
              "#46039f"
             ],
             [
              0.2222222222222222,
              "#7201a8"
             ],
             [
              0.3333333333333333,
              "#9c179e"
             ],
             [
              0.4444444444444444,
              "#bd3786"
             ],
             [
              0.5555555555555556,
              "#d8576b"
             ],
             [
              0.6666666666666666,
              "#ed7953"
             ],
             [
              0.7777777777777778,
              "#fb9f3a"
             ],
             [
              0.8888888888888888,
              "#fdca26"
             ],
             [
              1,
              "#f0f921"
             ]
            ],
            "type": "histogram2dcontour"
           }
          ],
          "mesh3d": [
           {
            "colorbar": {
             "outlinewidth": 0,
             "ticks": ""
            },
            "type": "mesh3d"
           }
          ],
          "parcoords": [
           {
            "line": {
             "colorbar": {
              "outlinewidth": 0,
              "ticks": ""
             }
            },
            "type": "parcoords"
           }
          ],
          "pie": [
           {
            "automargin": true,
            "type": "pie"
           }
          ],
          "scatter": [
           {
            "fillpattern": {
             "fillmode": "overlay",
             "size": 10,
             "solidity": 0.2
            },
            "type": "scatter"
           }
          ],
          "scatter3d": [
           {
            "line": {
             "colorbar": {
              "outlinewidth": 0,
              "ticks": ""
             }
            },
            "marker": {
             "colorbar": {
              "outlinewidth": 0,
              "ticks": ""
             }
            },
            "type": "scatter3d"
           }
          ],
          "scattercarpet": [
           {
            "marker": {
             "colorbar": {
              "outlinewidth": 0,
              "ticks": ""
             }
            },
            "type": "scattercarpet"
           }
          ],
          "scattergeo": [
           {
            "marker": {
             "colorbar": {
              "outlinewidth": 0,
              "ticks": ""
             }
            },
            "type": "scattergeo"
           }
          ],
          "scattergl": [
           {
            "marker": {
             "colorbar": {
              "outlinewidth": 0,
              "ticks": ""
             }
            },
            "type": "scattergl"
           }
          ],
          "scattermap": [
           {
            "marker": {
             "colorbar": {
              "outlinewidth": 0,
              "ticks": ""
             }
            },
            "type": "scattermap"
           }
          ],
          "scattermapbox": [
           {
            "marker": {
             "colorbar": {
              "outlinewidth": 0,
              "ticks": ""
             }
            },
            "type": "scattermapbox"
           }
          ],
          "scatterpolar": [
           {
            "marker": {
             "colorbar": {
              "outlinewidth": 0,
              "ticks": ""
             }
            },
            "type": "scatterpolar"
           }
          ],
          "scatterpolargl": [
           {
            "marker": {
             "colorbar": {
              "outlinewidth": 0,
              "ticks": ""
             }
            },
            "type": "scatterpolargl"
           }
          ],
          "scatterternary": [
           {
            "marker": {
             "colorbar": {
              "outlinewidth": 0,
              "ticks": ""
             }
            },
            "type": "scatterternary"
           }
          ],
          "surface": [
           {
            "colorbar": {
             "outlinewidth": 0,
             "ticks": ""
            },
            "colorscale": [
             [
              0,
              "#0d0887"
             ],
             [
              0.1111111111111111,
              "#46039f"
             ],
             [
              0.2222222222222222,
              "#7201a8"
             ],
             [
              0.3333333333333333,
              "#9c179e"
             ],
             [
              0.4444444444444444,
              "#bd3786"
             ],
             [
              0.5555555555555556,
              "#d8576b"
             ],
             [
              0.6666666666666666,
              "#ed7953"
             ],
             [
              0.7777777777777778,
              "#fb9f3a"
             ],
             [
              0.8888888888888888,
              "#fdca26"
             ],
             [
              1,
              "#f0f921"
             ]
            ],
            "type": "surface"
           }
          ],
          "table": [
           {
            "cells": {
             "fill": {
              "color": "#EBF0F8"
             },
             "line": {
              "color": "white"
             }
            },
            "header": {
             "fill": {
              "color": "#C8D4E3"
             },
             "line": {
              "color": "white"
             }
            },
            "type": "table"
           }
          ]
         },
         "layout": {
          "annotationdefaults": {
           "arrowcolor": "#2a3f5f",
           "arrowhead": 0,
           "arrowwidth": 1
          },
          "autotypenumbers": "strict",
          "coloraxis": {
           "colorbar": {
            "outlinewidth": 0,
            "ticks": ""
           }
          },
          "colorscale": {
           "diverging": [
            [
             0,
             "#8e0152"
            ],
            [
             0.1,
             "#c51b7d"
            ],
            [
             0.2,
             "#de77ae"
            ],
            [
             0.3,
             "#f1b6da"
            ],
            [
             0.4,
             "#fde0ef"
            ],
            [
             0.5,
             "#f7f7f7"
            ],
            [
             0.6,
             "#e6f5d0"
            ],
            [
             0.7,
             "#b8e186"
            ],
            [
             0.8,
             "#7fbc41"
            ],
            [
             0.9,
             "#4d9221"
            ],
            [
             1,
             "#276419"
            ]
           ],
           "sequential": [
            [
             0,
             "#0d0887"
            ],
            [
             0.1111111111111111,
             "#46039f"
            ],
            [
             0.2222222222222222,
             "#7201a8"
            ],
            [
             0.3333333333333333,
             "#9c179e"
            ],
            [
             0.4444444444444444,
             "#bd3786"
            ],
            [
             0.5555555555555556,
             "#d8576b"
            ],
            [
             0.6666666666666666,
             "#ed7953"
            ],
            [
             0.7777777777777778,
             "#fb9f3a"
            ],
            [
             0.8888888888888888,
             "#fdca26"
            ],
            [
             1,
             "#f0f921"
            ]
           ],
           "sequentialminus": [
            [
             0,
             "#0d0887"
            ],
            [
             0.1111111111111111,
             "#46039f"
            ],
            [
             0.2222222222222222,
             "#7201a8"
            ],
            [
             0.3333333333333333,
             "#9c179e"
            ],
            [
             0.4444444444444444,
             "#bd3786"
            ],
            [
             0.5555555555555556,
             "#d8576b"
            ],
            [
             0.6666666666666666,
             "#ed7953"
            ],
            [
             0.7777777777777778,
             "#fb9f3a"
            ],
            [
             0.8888888888888888,
             "#fdca26"
            ],
            [
             1,
             "#f0f921"
            ]
           ]
          },
          "colorway": [
           "#636efa",
           "#EF553B",
           "#00cc96",
           "#ab63fa",
           "#FFA15A",
           "#19d3f3",
           "#FF6692",
           "#B6E880",
           "#FF97FF",
           "#FECB52"
          ],
          "font": {
           "color": "#2a3f5f"
          },
          "geo": {
           "bgcolor": "white",
           "lakecolor": "white",
           "landcolor": "#E5ECF6",
           "showlakes": true,
           "showland": true,
           "subunitcolor": "white"
          },
          "hoverlabel": {
           "align": "left"
          },
          "hovermode": "closest",
          "mapbox": {
           "style": "light"
          },
          "paper_bgcolor": "white",
          "plot_bgcolor": "#E5ECF6",
          "polar": {
           "angularaxis": {
            "gridcolor": "white",
            "linecolor": "white",
            "ticks": ""
           },
           "bgcolor": "#E5ECF6",
           "radialaxis": {
            "gridcolor": "white",
            "linecolor": "white",
            "ticks": ""
           }
          },
          "scene": {
           "xaxis": {
            "backgroundcolor": "#E5ECF6",
            "gridcolor": "white",
            "gridwidth": 2,
            "linecolor": "white",
            "showbackground": true,
            "ticks": "",
            "zerolinecolor": "white"
           },
           "yaxis": {
            "backgroundcolor": "#E5ECF6",
            "gridcolor": "white",
            "gridwidth": 2,
            "linecolor": "white",
            "showbackground": true,
            "ticks": "",
            "zerolinecolor": "white"
           },
           "zaxis": {
            "backgroundcolor": "#E5ECF6",
            "gridcolor": "white",
            "gridwidth": 2,
            "linecolor": "white",
            "showbackground": true,
            "ticks": "",
            "zerolinecolor": "white"
           }
          },
          "shapedefaults": {
           "line": {
            "color": "#2a3f5f"
           }
          },
          "ternary": {
           "aaxis": {
            "gridcolor": "white",
            "linecolor": "white",
            "ticks": ""
           },
           "baxis": {
            "gridcolor": "white",
            "linecolor": "white",
            "ticks": ""
           },
           "bgcolor": "#E5ECF6",
           "caxis": {
            "gridcolor": "white",
            "linecolor": "white",
            "ticks": ""
           }
          },
          "title": {
           "x": 0.05
          },
          "xaxis": {
           "automargin": true,
           "gridcolor": "white",
           "linecolor": "white",
           "ticks": "",
           "title": {
            "standoff": 15
           },
           "zerolinecolor": "white",
           "zerolinewidth": 2
          },
          "yaxis": {
           "automargin": true,
           "gridcolor": "white",
           "linecolor": "white",
           "ticks": "",
           "title": {
            "standoff": 15
           },
           "zerolinecolor": "white",
           "zerolinewidth": 2
          }
         }
        },
        "title": {
         "text": "Main Cluster (DBSCAN)"
        }
       }
      }
     },
     "metadata": {},
     "output_type": "display_data"
    }
   ],
   "source": [
    "# Кластеризация\n",
    "labels, main_cluster, outliers = largest_cluster_outliers(filtered, eps=0.1, min_samples=20)\n",
    "\n",
    "print(f\"Главный кластер: {main_cluster.shape[0]} точек\")\n",
    "print(f\"Выбросы: {outliers.shape[0]} точек\")\n",
    "\n",
    "# Визуализируем\n",
    "visualize_cloud(main_cluster, title=\"Main Cluster (DBSCAN)\")"
   ]
  },
  {
   "cell_type": "markdown",
   "metadata": {},
   "source": [
    "# Запускаем RANSAC"
   ]
  },
  {
   "cell_type": "code",
   "execution_count": null,
   "metadata": {},
   "outputs": [
    {
     "name": "stdout",
     "output_type": "stream",
     "text": [
      "Найденная плоскость: ax+by+cz+d=0\n",
      "[ 0.99961753 -0.02685616  0.00659921 -0.61793381]\n",
      "На плоскости: 28 точек\n",
      "Выбросы: 0 точек\n",
      "Файл пустой или нет точек\n"
     ]
    }
   ],
   "source": [
    "\n",
    "plane_model, inliers, outliers = ransac_plane_outliers(main_cluster, distance_threshold=0.025)\n",
    "\n",
    "print(\"Найденная плоскость: ax+by+cz+d=0\")\n",
    "print(plane_model)\n",
    "print(f\"На плоскости: {inliers.shape[0]} точек\")\n",
    "print(f\"Выбросы: {outliers.shape[0]} точек\")\n",
    "\n",
    "# Визуализируем выбросы\n",
    "visualize_cloud(outliers, title=\"Outliers (не на плоскости)\")from star_solution.utils import filter_points,largest_cluster_outliers, ransac_plane_outliers, project_points_to_plane, pattern_match, compare_clouds_by_centroid"
   ]
  },
  {
   "cell_type": "code",
   "execution_count": 12,
   "metadata": {},
   "outputs": [
    {
     "data": {
      "text/plain": [
       "(28, 4)"
      ]
     },
     "execution_count": 12,
     "metadata": {},
     "output_type": "execute_result"
    }
   ],
   "source": [
    "inliers.shape"
   ]
  },
  {
   "cell_type": "code",
   "execution_count": 13,
   "metadata": {},
   "outputs": [
    {
     "data": {
      "application/vnd.plotly.v1+json": {
       "config": {
        "plotlyServerURL": "https://plot.ly"
       },
       "data": [
        {
         "marker": {
          "color": "green",
          "opacity": 0.6,
          "size": 2
         },
         "mode": "markers",
         "name": "Inliers",
         "type": "scatter3d",
         "x": {
          "bdata": "rBwaP9nOFz8QWBk/I9sZPxBYGT/+1Bg/I9sZP/7UGD/sURg/I9sZP+xRGD8j2xk/EFgZP0jhGj+amRk/EFgZP/7UGD+amRk/NV4aP1CNFz/+1Bg/mpkZP4cWGT81Xho//tQYP6wcGj91kxg/EFgZPw==",
          "dtype": "f4"
         },
         "y": {
          "bdata": "c2gxv1TjRb/Jdj6/gZVDv2DlML99PzW/vp86vzm0KL9Eiyy/Di0yv4/CNb/TTSK/VOMlv4PAKr8EVi6/SOEav7bzHb/XozC/Xropv4GVQ7/P9zO/zcwsv/T9NL8EVi6/WDk0v2iRLb9YOTS/RIssvw==",
          "dtype": "f4"
         },
         "z": {
          "bdata": "0SJbPgaBFT6YbhI+RrbzPS/dJD7fTw0+H4XrPZzEID5MNwk++FPjPcUgsD0tsh0+3SQGPhsv3T3n+6k9mpkZPkoMAj64HoU9JQaBPYPAyj3wp8Y9ppvEPVyPwj0Sg8A9WDm0PcUgsD3n+6k9CtejPQ==",
          "dtype": "f4"
         }
        },
        {
         "marker": {
          "color": "red",
          "opacity": 0.6,
          "size": 2
         },
         "mode": "markers",
         "name": "Outliers",
         "type": "scatter3d",
         "x": [],
         "y": [],
         "z": []
        },
        {
         "colorscale": [
          [
           0,
           "blue"
          ],
          [
           1,
           "blue"
          ]
         ],
         "name": "Plane",
         "opacity": 0.3,
         "type": "surface",
         "x": {
          "bdata": "AAAAAAAA+L+rqqqqqqryv6uqqqqqquq/AAAAAAAA4L9YVVVVVVXFv1BVVVVVVcU/AAAAAAAA4D+oqqqqqqrqP6qqqqqqqvI/AAAAAAAA+D8AAAAAAAD4v6uqqqqqqvK/q6qqqqqq6r8AAAAAAADgv1hVVVVVVcW/UFVVVVVVxT8AAAAAAADgP6iqqqqqquo/qqqqqqqq8j8AAAAAAAD4PwAAAAAAAPi/q6qqqqqq8r+rqqqqqqrqvwAAAAAAAOC/WFVVVVVVxb9QVVVVVVXFPwAAAAAAAOA/qKqqqqqq6j+qqqqqqqryPwAAAAAAAPg/AAAAAAAA+L+rqqqqqqryv6uqqqqqquq/AAAAAAAA4L9YVVVVVVXFv1BVVVVVVcU/AAAAAAAA4D+oqqqqqqrqP6qqqqqqqvI/AAAAAAAA+D8AAAAAAAD4v6uqqqqqqvK/q6qqqqqq6r8AAAAAAADgv1hVVVVVVcW/UFVVVVVVxT8AAAAAAADgP6iqqqqqquo/qqqqqqqq8j8AAAAAAAD4PwAAAAAAAPi/q6qqqqqq8r+rqqqqqqrqvwAAAAAAAOC/WFVVVVVVxb9QVVVVVVXFPwAAAAAAAOA/qKqqqqqq6j+qqqqqqqryPwAAAAAAAPg/AAAAAAAA+L+rqqqqqqryv6uqqqqqquq/AAAAAAAA4L9YVVVVVVXFv1BVVVVVVcU/AAAAAAAA4D+oqqqqqqrqP6qqqqqqqvI/AAAAAAAA+D8AAAAAAAD4v6uqqqqqqvK/q6qqqqqq6r8AAAAAAADgv1hVVVVVVcW/UFVVVVVVxT8AAAAAAADgP6iqqqqqquo/qqqqqqqq8j8AAAAAAAD4PwAAAAAAAPi/q6qqqqqq8r+rqqqqqqrqvwAAAAAAAOC/WFVVVVVVxb9QVVVVVVXFPwAAAAAAAOA/qKqqqqqq6j+qqqqqqqryPwAAAAAAAPg/AAAAAAAA+L+rqqqqqqryv6uqqqqqquq/AAAAAAAA4L9YVVVVVVXFv1BVVVVVVcU/AAAAAAAA4D+oqqqqqqrqP6qqqqqqqvI/AAAAAAAA+D8=",
          "dtype": "f8",
          "shape": "10, 10"
         },
         "y": {
          "bdata": "AAAAAAAA+L8AAAAAAAD4vwAAAAAAAPi/AAAAAAAA+L8AAAAAAAD4vwAAAAAAAPi/AAAAAAAA+L8AAAAAAAD4vwAAAAAAAPi/AAAAAAAA+L+rqqqqqqryv6uqqqqqqvK/q6qqqqqq8r+rqqqqqqryv6uqqqqqqvK/q6qqqqqq8r+rqqqqqqryv6uqqqqqqvK/q6qqqqqq8r+rqqqqqqryv6uqqqqqquq/q6qqqqqq6r+rqqqqqqrqv6uqqqqqquq/q6qqqqqq6r+rqqqqqqrqv6uqqqqqquq/q6qqqqqq6r+rqqqqqqrqv6uqqqqqquq/AAAAAAAA4L8AAAAAAADgvwAAAAAAAOC/AAAAAAAA4L8AAAAAAADgvwAAAAAAAOC/AAAAAAAA4L8AAAAAAADgvwAAAAAAAOC/AAAAAAAA4L9YVVVVVVXFv1hVVVVVVcW/WFVVVVVVxb9YVVVVVVXFv1hVVVVVVcW/WFVVVVVVxb9YVVVVVVXFv1hVVVVVVcW/WFVVVVVVxb9YVVVVVVXFv1BVVVVVVcU/UFVVVVVVxT9QVVVVVVXFP1BVVVVVVcU/UFVVVVVVxT9QVVVVVVXFP1BVVVVVVcU/UFVVVVVVxT9QVVVVVVXFP1BVVVVVVcU/AAAAAAAA4D8AAAAAAADgPwAAAAAAAOA/AAAAAAAA4D8AAAAAAADgPwAAAAAAAOA/AAAAAAAA4D8AAAAAAADgPwAAAAAAAOA/AAAAAAAA4D+oqqqqqqrqP6iqqqqqquo/qKqqqqqq6j+oqqqqqqrqP6iqqqqqquo/qKqqqqqq6j+oqqqqqqrqP6iqqqqqquo/qKqqqqqq6j+oqqqqqqrqP6qqqqqqqvI/qqqqqqqq8j+qqqqqqqryP6qqqqqqqvI/qqqqqqqq8j+qqqqqqqryP6qqqqqqqvI/qqqqqqqq8j+qqqqqqqryP6qqqqqqqvI/AAAAAAAA+D8AAAAAAAD4PwAAAAAAAPg/AAAAAAAA+D8AAAAAAAD4PwAAAAAAAPg/AAAAAAAA+D8AAAAAAAD4PwAAAAAAAPg/AAAAAAAA+D8=",
          "dtype": "f8",
          "shape": "10, 10"
         },
         "z": {
          "bdata": "vwHo0u+rc0AZj4yPEYRwQOk4YphmuGpAnVOrEapoZECm3OgV2zFcQCIk9hDEJE9AzTtq2EeXJ0AyBsEkIFlDwK9Nzh8JTFbAJAyeFsF1YcACnM0vpMFzQF0pcuzFmXBAbm0tUs/jakAkiHbLEpRkQLNFf4msiFxAPfYi+GbST0A3hB11000qQBc0lD19q0LAouQ3rDf1VcCd19JcWEphwEY2s4xY13NAoMNXSXqvcED2ofgLOA9rQKu8QYV7v2RAwa4V/X3fXEAs5KfvBEBQQKrM0BFfBC1A/WFnVtr9QcCUe6E4Zp5VwBajB6PvHmHAidCY6Qztc0DkXT2mLsVwQH3Ww8WgOmtAMvEMP+TqZEDOF6xwTzZdQDpNPmPWllBAFBWEruq6L0DgjzpvN1BBwIcSC8WUR1XAkG486YbzYMDNan5GwQJ0QCf4IgPj2nBAAwuPfwlma0C4Jdj4TBZlQNyAQuQgjV1AR7bU1qftUEC/rpsluzgxQMa9DYiUokDAeql0UcPwVMAJOnEvHshgwBAFZKN1GHRAapIIYJfwcECKP1o5cpFrQD9ao7K1QWVA6unYV/LjXUBVH2tKeURRQPZS9fMAlDJAVtfBQePpP8BqQN7d8ZlUwIEFpnW1nGDAU59JACoudECuLO68SwZxQBB0JfPavGtAx45ubB5tZUD3Um/LwzpeQGKIAb5Km1FALfdOwkbvM0AhM2hznY4+wF3XR2ogQ1TA+9Dau0xxYMCXOS9d3kN0QPHG0xkAHHFAmKjwrEPoa0BMwzkmh5hlQAS8BT+VkV5AcPGXMRzyUUBim6iQjEo1QOiODqVXMz3AUG6x9k7sU8B0nA8C5EVgwNrTFLqSWXRANWG5drQxcUAe3btmrBNsQNT3BODvw2VAEiWcsmboXkB9Wi6l7UhSQJk/Al/SpTZAs+q01hHYO8BDBRuDfZVTwO5nREh7GmDAHm76FkdvdEB4+57TaEdxQKURhyAVP2xAWizQmVjvZUAgjjImOD9fQIvDxBi/n1JA0ONbLRgBOEB+RlsIzHw6wDWchA+sPlPAzmbyHCXeX8A=",
          "dtype": "f8",
          "shape": "10, 10"
         }
        }
       ],
       "layout": {
        "margin": {
         "b": 0,
         "l": 0,
         "r": 0,
         "t": 30
        },
        "scene": {
         "aspectmode": "manual",
         "aspectratio": {
          "x": 1,
          "y": 1,
          "z": 1
         },
         "xaxis": {
          "range": [
           0.5145000219345093,
           0.6825000047683716
          ],
          "title": {
           "text": "X"
          }
         },
         "yaxis": {
          "range": [
           -0.7730000019073486,
           -0.6050000190734863
          ],
          "title": {
           "text": "Y"
          }
         },
         "zaxis": {
          "range": [
           0.05450001358985901,
           0.2224999964237213
          ],
          "title": {
           "text": "Z"
          }
         }
        },
        "template": {
         "data": {
          "bar": [
           {
            "error_x": {
             "color": "#2a3f5f"
            },
            "error_y": {
             "color": "#2a3f5f"
            },
            "marker": {
             "line": {
              "color": "#E5ECF6",
              "width": 0.5
             },
             "pattern": {
              "fillmode": "overlay",
              "size": 10,
              "solidity": 0.2
             }
            },
            "type": "bar"
           }
          ],
          "barpolar": [
           {
            "marker": {
             "line": {
              "color": "#E5ECF6",
              "width": 0.5
             },
             "pattern": {
              "fillmode": "overlay",
              "size": 10,
              "solidity": 0.2
             }
            },
            "type": "barpolar"
           }
          ],
          "carpet": [
           {
            "aaxis": {
             "endlinecolor": "#2a3f5f",
             "gridcolor": "white",
             "linecolor": "white",
             "minorgridcolor": "white",
             "startlinecolor": "#2a3f5f"
            },
            "baxis": {
             "endlinecolor": "#2a3f5f",
             "gridcolor": "white",
             "linecolor": "white",
             "minorgridcolor": "white",
             "startlinecolor": "#2a3f5f"
            },
            "type": "carpet"
           }
          ],
          "choropleth": [
           {
            "colorbar": {
             "outlinewidth": 0,
             "ticks": ""
            },
            "type": "choropleth"
           }
          ],
          "contour": [
           {
            "colorbar": {
             "outlinewidth": 0,
             "ticks": ""
            },
            "colorscale": [
             [
              0,
              "#0d0887"
             ],
             [
              0.1111111111111111,
              "#46039f"
             ],
             [
              0.2222222222222222,
              "#7201a8"
             ],
             [
              0.3333333333333333,
              "#9c179e"
             ],
             [
              0.4444444444444444,
              "#bd3786"
             ],
             [
              0.5555555555555556,
              "#d8576b"
             ],
             [
              0.6666666666666666,
              "#ed7953"
             ],
             [
              0.7777777777777778,
              "#fb9f3a"
             ],
             [
              0.8888888888888888,
              "#fdca26"
             ],
             [
              1,
              "#f0f921"
             ]
            ],
            "type": "contour"
           }
          ],
          "contourcarpet": [
           {
            "colorbar": {
             "outlinewidth": 0,
             "ticks": ""
            },
            "type": "contourcarpet"
           }
          ],
          "heatmap": [
           {
            "colorbar": {
             "outlinewidth": 0,
             "ticks": ""
            },
            "colorscale": [
             [
              0,
              "#0d0887"
             ],
             [
              0.1111111111111111,
              "#46039f"
             ],
             [
              0.2222222222222222,
              "#7201a8"
             ],
             [
              0.3333333333333333,
              "#9c179e"
             ],
             [
              0.4444444444444444,
              "#bd3786"
             ],
             [
              0.5555555555555556,
              "#d8576b"
             ],
             [
              0.6666666666666666,
              "#ed7953"
             ],
             [
              0.7777777777777778,
              "#fb9f3a"
             ],
             [
              0.8888888888888888,
              "#fdca26"
             ],
             [
              1,
              "#f0f921"
             ]
            ],
            "type": "heatmap"
           }
          ],
          "histogram": [
           {
            "marker": {
             "pattern": {
              "fillmode": "overlay",
              "size": 10,
              "solidity": 0.2
             }
            },
            "type": "histogram"
           }
          ],
          "histogram2d": [
           {
            "colorbar": {
             "outlinewidth": 0,
             "ticks": ""
            },
            "colorscale": [
             [
              0,
              "#0d0887"
             ],
             [
              0.1111111111111111,
              "#46039f"
             ],
             [
              0.2222222222222222,
              "#7201a8"
             ],
             [
              0.3333333333333333,
              "#9c179e"
             ],
             [
              0.4444444444444444,
              "#bd3786"
             ],
             [
              0.5555555555555556,
              "#d8576b"
             ],
             [
              0.6666666666666666,
              "#ed7953"
             ],
             [
              0.7777777777777778,
              "#fb9f3a"
             ],
             [
              0.8888888888888888,
              "#fdca26"
             ],
             [
              1,
              "#f0f921"
             ]
            ],
            "type": "histogram2d"
           }
          ],
          "histogram2dcontour": [
           {
            "colorbar": {
             "outlinewidth": 0,
             "ticks": ""
            },
            "colorscale": [
             [
              0,
              "#0d0887"
             ],
             [
              0.1111111111111111,
              "#46039f"
             ],
             [
              0.2222222222222222,
              "#7201a8"
             ],
             [
              0.3333333333333333,
              "#9c179e"
             ],
             [
              0.4444444444444444,
              "#bd3786"
             ],
             [
              0.5555555555555556,
              "#d8576b"
             ],
             [
              0.6666666666666666,
              "#ed7953"
             ],
             [
              0.7777777777777778,
              "#fb9f3a"
             ],
             [
              0.8888888888888888,
              "#fdca26"
             ],
             [
              1,
              "#f0f921"
             ]
            ],
            "type": "histogram2dcontour"
           }
          ],
          "mesh3d": [
           {
            "colorbar": {
             "outlinewidth": 0,
             "ticks": ""
            },
            "type": "mesh3d"
           }
          ],
          "parcoords": [
           {
            "line": {
             "colorbar": {
              "outlinewidth": 0,
              "ticks": ""
             }
            },
            "type": "parcoords"
           }
          ],
          "pie": [
           {
            "automargin": true,
            "type": "pie"
           }
          ],
          "scatter": [
           {
            "fillpattern": {
             "fillmode": "overlay",
             "size": 10,
             "solidity": 0.2
            },
            "type": "scatter"
           }
          ],
          "scatter3d": [
           {
            "line": {
             "colorbar": {
              "outlinewidth": 0,
              "ticks": ""
             }
            },
            "marker": {
             "colorbar": {
              "outlinewidth": 0,
              "ticks": ""
             }
            },
            "type": "scatter3d"
           }
          ],
          "scattercarpet": [
           {
            "marker": {
             "colorbar": {
              "outlinewidth": 0,
              "ticks": ""
             }
            },
            "type": "scattercarpet"
           }
          ],
          "scattergeo": [
           {
            "marker": {
             "colorbar": {
              "outlinewidth": 0,
              "ticks": ""
             }
            },
            "type": "scattergeo"
           }
          ],
          "scattergl": [
           {
            "marker": {
             "colorbar": {
              "outlinewidth": 0,
              "ticks": ""
             }
            },
            "type": "scattergl"
           }
          ],
          "scattermap": [
           {
            "marker": {
             "colorbar": {
              "outlinewidth": 0,
              "ticks": ""
             }
            },
            "type": "scattermap"
           }
          ],
          "scattermapbox": [
           {
            "marker": {
             "colorbar": {
              "outlinewidth": 0,
              "ticks": ""
             }
            },
            "type": "scattermapbox"
           }
          ],
          "scatterpolar": [
           {
            "marker": {
             "colorbar": {
              "outlinewidth": 0,
              "ticks": ""
             }
            },
            "type": "scatterpolar"
           }
          ],
          "scatterpolargl": [
           {
            "marker": {
             "colorbar": {
              "outlinewidth": 0,
              "ticks": ""
             }
            },
            "type": "scatterpolargl"
           }
          ],
          "scatterternary": [
           {
            "marker": {
             "colorbar": {
              "outlinewidth": 0,
              "ticks": ""
             }
            },
            "type": "scatterternary"
           }
          ],
          "surface": [
           {
            "colorbar": {
             "outlinewidth": 0,
             "ticks": ""
            },
            "colorscale": [
             [
              0,
              "#0d0887"
             ],
             [
              0.1111111111111111,
              "#46039f"
             ],
             [
              0.2222222222222222,
              "#7201a8"
             ],
             [
              0.3333333333333333,
              "#9c179e"
             ],
             [
              0.4444444444444444,
              "#bd3786"
             ],
             [
              0.5555555555555556,
              "#d8576b"
             ],
             [
              0.6666666666666666,
              "#ed7953"
             ],
             [
              0.7777777777777778,
              "#fb9f3a"
             ],
             [
              0.8888888888888888,
              "#fdca26"
             ],
             [
              1,
              "#f0f921"
             ]
            ],
            "type": "surface"
           }
          ],
          "table": [
           {
            "cells": {
             "fill": {
              "color": "#EBF0F8"
             },
             "line": {
              "color": "white"
             }
            },
            "header": {
             "fill": {
              "color": "#C8D4E3"
             },
             "line": {
              "color": "white"
             }
            },
            "type": "table"
           }
          ]
         },
         "layout": {
          "annotationdefaults": {
           "arrowcolor": "#2a3f5f",
           "arrowhead": 0,
           "arrowwidth": 1
          },
          "autotypenumbers": "strict",
          "coloraxis": {
           "colorbar": {
            "outlinewidth": 0,
            "ticks": ""
           }
          },
          "colorscale": {
           "diverging": [
            [
             0,
             "#8e0152"
            ],
            [
             0.1,
             "#c51b7d"
            ],
            [
             0.2,
             "#de77ae"
            ],
            [
             0.3,
             "#f1b6da"
            ],
            [
             0.4,
             "#fde0ef"
            ],
            [
             0.5,
             "#f7f7f7"
            ],
            [
             0.6,
             "#e6f5d0"
            ],
            [
             0.7,
             "#b8e186"
            ],
            [
             0.8,
             "#7fbc41"
            ],
            [
             0.9,
             "#4d9221"
            ],
            [
             1,
             "#276419"
            ]
           ],
           "sequential": [
            [
             0,
             "#0d0887"
            ],
            [
             0.1111111111111111,
             "#46039f"
            ],
            [
             0.2222222222222222,
             "#7201a8"
            ],
            [
             0.3333333333333333,
             "#9c179e"
            ],
            [
             0.4444444444444444,
             "#bd3786"
            ],
            [
             0.5555555555555556,
             "#d8576b"
            ],
            [
             0.6666666666666666,
             "#ed7953"
            ],
            [
             0.7777777777777778,
             "#fb9f3a"
            ],
            [
             0.8888888888888888,
             "#fdca26"
            ],
            [
             1,
             "#f0f921"
            ]
           ],
           "sequentialminus": [
            [
             0,
             "#0d0887"
            ],
            [
             0.1111111111111111,
             "#46039f"
            ],
            [
             0.2222222222222222,
             "#7201a8"
            ],
            [
             0.3333333333333333,
             "#9c179e"
            ],
            [
             0.4444444444444444,
             "#bd3786"
            ],
            [
             0.5555555555555556,
             "#d8576b"
            ],
            [
             0.6666666666666666,
             "#ed7953"
            ],
            [
             0.7777777777777778,
             "#fb9f3a"
            ],
            [
             0.8888888888888888,
             "#fdca26"
            ],
            [
             1,
             "#f0f921"
            ]
           ]
          },
          "colorway": [
           "#636efa",
           "#EF553B",
           "#00cc96",
           "#ab63fa",
           "#FFA15A",
           "#19d3f3",
           "#FF6692",
           "#B6E880",
           "#FF97FF",
           "#FECB52"
          ],
          "font": {
           "color": "#2a3f5f"
          },
          "geo": {
           "bgcolor": "white",
           "lakecolor": "white",
           "landcolor": "#E5ECF6",
           "showlakes": true,
           "showland": true,
           "subunitcolor": "white"
          },
          "hoverlabel": {
           "align": "left"
          },
          "hovermode": "closest",
          "mapbox": {
           "style": "light"
          },
          "paper_bgcolor": "white",
          "plot_bgcolor": "#E5ECF6",
          "polar": {
           "angularaxis": {
            "gridcolor": "white",
            "linecolor": "white",
            "ticks": ""
           },
           "bgcolor": "#E5ECF6",
           "radialaxis": {
            "gridcolor": "white",
            "linecolor": "white",
            "ticks": ""
           }
          },
          "scene": {
           "xaxis": {
            "backgroundcolor": "#E5ECF6",
            "gridcolor": "white",
            "gridwidth": 2,
            "linecolor": "white",
            "showbackground": true,
            "ticks": "",
            "zerolinecolor": "white"
           },
           "yaxis": {
            "backgroundcolor": "#E5ECF6",
            "gridcolor": "white",
            "gridwidth": 2,
            "linecolor": "white",
            "showbackground": true,
            "ticks": "",
            "zerolinecolor": "white"
           },
           "zaxis": {
            "backgroundcolor": "#E5ECF6",
            "gridcolor": "white",
            "gridwidth": 2,
            "linecolor": "white",
            "showbackground": true,
            "ticks": "",
            "zerolinecolor": "white"
           }
          },
          "shapedefaults": {
           "line": {
            "color": "#2a3f5f"
           }
          },
          "ternary": {
           "aaxis": {
            "gridcolor": "white",
            "linecolor": "white",
            "ticks": ""
           },
           "baxis": {
            "gridcolor": "white",
            "linecolor": "white",
            "ticks": ""
           },
           "bgcolor": "#E5ECF6",
           "caxis": {
            "gridcolor": "white",
            "linecolor": "white",
            "ticks": ""
           }
          },
          "title": {
           "x": 0.05
          },
          "xaxis": {
           "automargin": true,
           "gridcolor": "white",
           "linecolor": "white",
           "ticks": "",
           "title": {
            "standoff": 15
           },
           "zerolinecolor": "white",
           "zerolinewidth": 2
          },
          "yaxis": {
           "automargin": true,
           "gridcolor": "white",
           "linecolor": "white",
           "ticks": "",
           "title": {
            "standoff": 15
           },
           "zerolinecolor": "white",
           "zerolinewidth": 2
          }
         }
        },
        "title": {
         "text": "Plane + Points"
        }
       }
      }
     },
     "metadata": {},
     "output_type": "display_data"
    }
   ],
   "source": [
    "visualize_plane_with_points(plane_model, inliers, outliers)"
   ]
  },
  {
   "cell_type": "markdown",
   "metadata": {},
   "source": [
    "## Переход в 2D"
   ]
  },
  {
   "cell_type": "code",
   "execution_count": 14,
   "metadata": {},
   "outputs": [
    {
     "name": "stdout",
     "output_type": "stream",
     "text": [
      "Проекция 3D shape: (28, 3)\n",
      "Проекция 2D shape: (28, 2)\n"
     ]
    }
   ],
   "source": [
    "proj3d, proj2d, basis = project_points_to_plane(inliers, plane_model)\n",
    "print(\"Проекция 3D shape:\", proj3d.shape)  # (N,3)\n",
    "print(\"Проекция 2D shape:\", proj2d.shape)  # (N,2)"
   ]
  },
  {
   "cell_type": "code",
   "execution_count": 15,
   "metadata": {},
   "outputs": [
    {
     "data": {
      "image/png": "[encoded data removed]",
      "text/plain": [
       "<Figure size 640x480 with 1 Axes>"
      ]
     },
     "metadata": {},
     "output_type": "display_data"
    }
   ],
   "source": [
    "# Нарисуем все точки в 2D координатах\n",
    "import matplotlib.pyplot as plt\n",
    "plt.scatter(proj2d[:,0], proj2d[:,1], s=2, alpha=0.5)\n",
    "plt.xlabel(\"U axis\")\n",
    "plt.ylabel(\"V axis\")\n",
    "plt.title(\"Projection of points onto plane\")\n",
    "plt.axis(\"equal\")\n",
    "plt.show()"
   ]
  },
  {
   "cell_type": "code",
   "execution_count": 16,
   "metadata": {},
   "outputs": [
    {
     "name": "stdout",
     "output_type": "stream",
     "text": [
      "Процент точек в паттерне: 96.4% 0.05603374292925645\n"
     ]
    }
   ],
   "source": [
    "matched_points, percent, L_METRIC = pattern_match(proj2d, d_a=0.01) # 10 mm допустимое отклонение от паттерна размером 150 mm \n",
    "print(f\"Процент точек в паттерне: {percent:.1f}% {L_METRIC}\")"
   ]
  },
  {
   "cell_type": "code",
   "execution_count": null,
   "metadata": {},
   "outputs": [
    {
     "data": {
      "image/png": "[encoded data removed]",
      "text/plain": [
       "<Figure size 640x480 with 1 Axes>"
      ]
     },
     "metadata": {},
     "output_type": "display_data"
    }
   ],
   "source": [
    "# Нарисуем все точки в 2D координатах                # prefix=[venv_python, \" \"],  # Запуск внутри venv\n",
    "\n",
    "plt.scatter(matched_points[:,0], matched_points[:,1], s=2, alpha=0.5)\n",
    "plt.xlabel(\"U axis\")\n",
    "plt.ylabel(\"V axis\")\n",
    "plt.title(\"Projection of points onto plane\")\n",
    "plt.axis(\"equal\")\n",
    "plt.show()"
   ]
  },
  {
   "cell_type": "markdown",
   "metadata": {},
   "source": [
    "## Полный пайп"
   ]
  },
  {
   "cell_type": "code",
   "execution_count": 22,
   "metadata": {},
   "outputs": [
    {
     "name": "stdout",
     "output_type": "stream",
     "text": [
      "(35, 4)\n",
      "=== Уникальная позиция! ===\n",
      "robot pose[x,y,thetha]=[-0.69185525 -0.59257835  0.12845714], FIRST MARKER\n",
      "(30, 4)\n",
      "(37, 4)\n",
      "(28, 4)\n",
      "(33, 4)\n",
      "(32, 4)\n",
      "(38, 4)\n",
      "(52, 4)\n",
      "=== Уникальная позиция! ===\n",
      "robot pose[x,y,thetha]=[ 1.2942523  -6.8086634   0.13665384], distance to previous marker = 6.510353088378906\n"
     ]
    },
    {
     "data": {
      "image/png": "[encoded data removed]",
      "text/plain": [
       "<Figure size 640x480 with 1 Axes>"
      ]
     },
     "metadata": {},
     "output_type": "display_data"
    },
    {
     "name": "stdout",
     "output_type": "stream",
     "text": [
      "(37, 4)\n",
      "(33, 4)\n",
      "(34, 4)\n",
      "=== Уникальная позиция! ===\n",
      "robot pose[x,y,thetha]=[ 0.01784658 -1.39425     0.14779413], distance to previous marker = 7.242912292480469\n"
     ]
    },
    {
     "data": {
      "image/png": "[encoded data removed]",
      "text/plain": [
       "<Figure size 640x480 with 1 Axes>"
      ]
     },
     "metadata": {},
     "output_type": "display_data"
    },
    {
     "name": "stdout",
     "output_type": "stream",
     "text": [
      "(39, 4)\n",
      "(41, 4)\n",
      "(42, 4)\n",
      "(44, 4)\n",
      "(40, 4)\n"
     ]
    }
   ],
   "source": [
    "uniques_marker_id_list = []\n",
    "# uniques_marker_robot_pose_list = []\n",
    "uniques_marker_centers = []\n",
    "\n",
    "\n",
    "inlier_points_selected = []\n",
    "metrics_selected = []\n",
    "poses_selected = []\n",
    "\n",
    "for ix, points in enumerate(clouds):\n",
    "    filtered = filter_points(points, intensity_min=60, intensity_max=205, range_min=0.2, range_max=2.0,\n",
    "                             z_min=-0.5, z_max=0.5)\n",
    "    if filtered.shape[0] < 30:\n",
    "        # print(\"Мало точек после фильтра, пропускаем\")\n",
    "        continue\n",
    "\n",
    "    labels, main_cluster, outliers = largest_cluster_outliers(filtered, eps=0.3, min_samples=20)\n",
    "    if main_cluster.shape[0] < 20:\n",
    "        # print(\"Мало точек в главном кластере, пропускаем\")\n",
    "        continue\n",
    "\n",
    "    plane_model, inliers, outliers = ransac_plane_outliers(main_cluster, distance_threshold=0.025)\n",
    "    if inliers.shape[0] < 10:\n",
    "        # print(\"Мало точек на плоскости, пропускаем\")\n",
    "        continue\n",
    "\n",
    "    proj3d, proj2d, basis = project_points_to_plane(inliers, plane_model)\n",
    "    matched_points, percent, L_METRIC  = pattern_match(proj2d, d_a=0.01)\n",
    "    # print(f\"Процент точек в паттерне: {percent:.1f}%\")\n",
    "\n",
    "    if percent > 50.0 and (L_METRIC < 0.06 and L_METRIC > 0.04):\n",
    "        # print(f\"Frame {ix} Процент точек в паттерне: {percent:.1f}% L_METRIC={L_METRIC}\")\n",
    "        print(inliers.shape)\n",
    "        inlier_points_selected.append(inliers)\n",
    "        metrics_selected.append(L_METRIC)\n",
    "        poses_selected.append(poses[ix])    \n",
    "\n",
    "        if len(uniques_marker_id_list) == 0:\n",
    "            points_A = inlier_points_selected[-1]\n",
    "            pose_A = poses_selected[-1]\n",
    "            \n",
    "            # just fill any numbers to use same function for first and rest cases \n",
    "            points_B = inlier_points_selected[-1] \n",
    "            pose_B = poses_selected[-1]\n",
    "\n",
    "            centroid_A, centroid_B, dist_xy, dist_xyz = compare_clouds_by_centroid(points_A, pose_A, points_B, pose_B)\n",
    "            uniques_marker_id_list.append(ix)\n",
    "            uniques_marker_centers.append(centroid_A)\n",
    "            print(\"=== Уникальная позиция! ===\")\n",
    "            print(f'robot pose[x,y,thetha]={centroid_A}, FIRST MARKER')\n",
    "            \n",
    "        else:\n",
    "            points_A = inlier_points_selected[-2]\n",
    "            pose_A = poses_selected[-2]\n",
    "\n",
    "            points_B = inlier_points_selected[-1] \n",
    "            pose_B = poses_selected[-1]\n",
    "            centroid_A, centroid_B, dist_xy, dist_xyz = compare_clouds_by_centroid(points_A, pose_A, points_B, pose_B)\n",
    "            if dist_xy > 1.5:\n",
    "                uniques_marker_id_list.append(ix)\n",
    "                uniques_marker_centers.append(centroid_B)\n",
    "                print(\"=== Уникальная позиция! ===\")\n",
    "                print(f'robot pose[x,y,thetha]={centroid_B}, distance to previous marker = {dist_xy}')\n",
    "\n",
    "                \n",
    "                plt.scatter(matched_points[:,0], matched_points[:,1], s=2, alpha=0.5)\n",
    "                plt.xlabel(\"U axis\")\n",
    "                plt.ylabel(\"V axis\")\n",
    "                plt.title(\"Projection of points onto plane\")\n",
    "                plt.axis(\"equal\")\n",
    "                plt.show()"
   ]
  },
  {
   "cell_type": "code",
   "execution_count": null,
   "metadata": {},
   "outputs": [],
   "source": []
  },
  {
   "cell_type": "code",
   "execution_count": null,
   "metadata": {},
   "outputs": [],
   "source": [
    "\n",
    "        "
   ]
  },
  {
   "cell_type": "code",
   "execution_count": null,
   "metadata": {},
   "outputs": [],
   "source": []
  },
  {
   "cell_type": "code",
   "execution_count": null,
   "metadata": {},
   "outputs": [],
   "source": []
  },
  {
   "cell_type": "code",
   "execution_count": null,
   "metadata": {},
   "outputs": [],
   "source": []
  },
  {
   "cell_type": "code",
   "execution_count": null,
   "metadata": {},
   "outputs": [],
   "source": []
  },
  {
   "cell_type": "code",
   "execution_count": null,
   "metadata": {},
   "outputs": [],
   "source": []
  },
  {
   "cell_type": "code",
   "execution_count": null,
   "metadata": {},
   "outputs": [],
   "source": []
  },
  {
   "cell_type": "code",
   "execution_count": null,
   "metadata": {},
   "outputs": [],
   "source": []
  },
  {
   "cell_type": "code",
   "execution_count": null,
   "metadata": {},
   "outputs": [],
   "source": []
  },
  {
   "cell_type": "code",
   "execution_count": null,
   "metadata": {},
   "outputs": [],
   "source": []
  },
  {
   "cell_type": "code",
   "execution_count": null,
   "metadata": {},
   "outputs": [],
   "source": []
  },
  {
   "cell_type": "code",
   "execution_count": null,
   "metadata": {},
   "outputs": [],
   "source": []
  },
  {
   "cell_type": "code",
   "execution_count": null,
   "metadata": {},
   "outputs": [],
   "source": []
  },
  {
   "cell_type": "code",
   "execution_count": null,
   "metadata": {},
   "outputs": [],
   "source": []
  },
  {
   "cell_type": "code",
   "execution_count": null,
   "metadata": {},
   "outputs": [],
   "source": []
  },
  {
   "cell_type": "code",
   "execution_count": null,
   "metadata": {},
   "outputs": [],
   "source": []
  },
  {
   "cell_type": "code",
   "execution_count": null,
   "metadata": {},
   "outputs": [],
   "source": []
  }
 ],
 "metadata": {
  "kernelspec": {
   "display_name": "Python 3",
   "language": "python",
   "name": "python3"
  },
  "language_info": {
   "codemirror_mode": {
    "name": "ipython",
    "version": 3
   },
   "file_extension": ".py",
   "mimetype": "text/x-python",
   "name": "python",
   "nbconvert_exporter": "python",
   "pygments_lexer": "ipython3",
   "version": "3.10.12"
  }
 },
 "nbformat": 4,
 "nbformat_minor": 4
}
